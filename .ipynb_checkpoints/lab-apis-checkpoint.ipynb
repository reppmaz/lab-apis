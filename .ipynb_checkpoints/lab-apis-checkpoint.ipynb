{
 "cells": [
  {
   "cell_type": "markdown",
   "id": "27422808-8a16-4be1-897f-57b379af8991",
   "metadata": {},
   "source": [
    "# Lab | APIs"
   ]
  },
  {
   "cell_type": "markdown",
   "id": "50f30950-3e31-499a-92ea-1535422c570b",
   "metadata": {},
   "source": [
    "In order to use the `Spotify` API (`SpotiPy`), create an account in `Spotify` and follow [these](https://developer.spotify.com/documentation/general/guides/app-settings/) steps. "
   ]
  },
  {
   "cell_type": "markdown",
   "id": "a0479b95-6ca5-415e-b894-1f5cb17b055b",
   "metadata": {},
   "source": [
    "## Authentication and initializing the API"
   ]
  },
  {
   "cell_type": "markdown",
   "id": "47d71611-c617-4972-a0c3-7090c24b399c",
   "metadata": {},
   "source": [
    "Save your client ID and your client secret in your preferred way, and read it or load it into the following variables:"
   ]
  },
  {
   "cell_type": "code",
   "execution_count": null,
   "id": "ea44c82a-5c07-4dbc-beb2-bba2601bb75e",
   "metadata": {},
   "outputs": [],
   "source": [
    "CLIENT_ID = \"<introduce your client id>\"\n",
    "CLIENT_SECRET = \"<introduce your client secret>\""
   ]
  },
  {
   "cell_type": "code",
   "execution_count": null,
   "id": "319cfd4e-f6fb-4419-80e0-e3983cd25e43",
   "metadata": {},
   "outputs": [],
   "source": [
    "CLIENT_ID = \"4109b2d9f5014671863bb2df1d1fbdd3\"\n",
    "CLIENT_SECRET = \"5cb719fae80c4191a9c0b288f51bfe50\""
   ]
  },
  {
   "cell_type": "code",
   "execution_count": null,
   "id": "4503ce5f-937a-4a88-9aeb-c39ba5cafdeb",
   "metadata": {},
   "outputs": [],
   "source": [
    "#import config"
   ]
  },
  {
   "cell_type": "code",
   "execution_count": null,
   "id": "d741da6b-20c2-42eb-87cd-dbe3cc37d66b",
   "metadata": {},
   "outputs": [],
   "source": [
    "from config import client_id, client_secret"
   ]
  },
  {
   "cell_type": "code",
   "execution_count": null,
   "id": "04e12954-fd70-4311-88a5-fb7e2c29799c",
   "metadata": {},
   "outputs": [],
   "source": [
    "# If you havent done so, install the spotipy wrapper\n",
    "#!pip install spotipy"
   ]
  },
  {
   "cell_type": "markdown",
   "id": "dc0e86da-8846-4207-84c3-cd20b9e01d0e",
   "metadata": {},
   "source": [
    "Once you have done it, we will start initializing the API."
   ]
  },
  {
   "cell_type": "code",
   "execution_count": null,
   "id": "03034bc6-9858-412a-83b7-18abdc345d7e",
   "metadata": {},
   "outputs": [],
   "source": [
    "import spotipy\n",
    "from spotipy.oauth2 import SpotifyClientCredentials\n",
    "\n",
    "#Initialize SpotiPy with user credentials\n",
    "sp = spotipy.Spotify(auth_manager=SpotifyClientCredentials(client_id=client_id,\n",
    "                                                           client_secret=client_secret))"
   ]
  },
  {
   "cell_type": "markdown",
   "id": "8fed9628-08d7-4290-a4be-5527696b01c5",
   "metadata": {},
   "source": [
    "## Using the search method"
   ]
  },
  {
   "cell_type": "markdown",
   "id": "6575a3c6-f25a-4905-b1f3-c0efd50dcc1e",
   "metadata": {},
   "source": [
    "Now, let's use the search method by introducing a \"query\". For example, let's try searching for \"Lady Gaga\":"
   ]
  },
  {
   "cell_type": "code",
   "execution_count": null,
   "id": "7772a1e0-9692-4d04-a590-76111a272d8d",
   "metadata": {
    "scrolled": true,
    "tags": []
   },
   "outputs": [],
   "source": [
    "results = sp.search(q='Lady Gaga', limit=50)\n",
    "results"
   ]
  },
  {
   "cell_type": "code",
   "execution_count": null,
   "id": "edc14c95-474b-4e2a-aea3-bdfd0a205546",
   "metadata": {},
   "outputs": [],
   "source": [
    "results.keys() # We can see that we only have tracks"
   ]
  },
  {
   "cell_type": "code",
   "execution_count": null,
   "id": "ad8ef934-1dbb-4008-ac8e-f5c29823fe6a",
   "metadata": {},
   "outputs": [],
   "source": [
    "results[\"tracks\"].keys() # Let's check the values"
   ]
  },
  {
   "cell_type": "code",
   "execution_count": null,
   "id": "004b7814-4dd5-408e-b7ba-1da87f9250cb",
   "metadata": {},
   "outputs": [],
   "source": [
    "results[\"tracks\"][\"href\"] # Query we have searched "
   ]
  },
  {
   "cell_type": "code",
   "execution_count": null,
   "id": "7285cedd-fbe1-47cf-98d5-a7fdc3e5c8b8",
   "metadata": {
    "scrolled": true,
    "tags": []
   },
   "outputs": [],
   "source": [
    "results[\"tracks\"][\"items\"] #items (actual tracks)"
   ]
  },
  {
   "cell_type": "code",
   "execution_count": null,
   "id": "529fff56-47d3-4d78-8ff5-9530fe290d1d",
   "metadata": {},
   "outputs": [],
   "source": [
    "results[\"tracks\"][\"limit\"]#Limit we have chosen"
   ]
  },
  {
   "cell_type": "code",
   "execution_count": null,
   "id": "92c64c57-3bd2-4d42-bbd1-84a040f1e02a",
   "metadata": {},
   "outputs": [],
   "source": [
    "results[\"tracks\"][\"next\"] #link to the next page (next 50 tracks)"
   ]
  },
  {
   "cell_type": "code",
   "execution_count": null,
   "id": "f5ccdf79-5d9e-40de-adb9-2cc1e5b7c74a",
   "metadata": {
    "tags": []
   },
   "outputs": [],
   "source": [
    "results[\"tracks\"][\"offset\"] # Actual offset (starting point)"
   ]
  },
  {
   "cell_type": "code",
   "execution_count": null,
   "id": "356730c1-60a2-4ea8-bd2c-e0522bab8a4d",
   "metadata": {},
   "outputs": [],
   "source": [
    "results[\"tracks\"][\"previous\"] #Previous search"
   ]
  },
  {
   "cell_type": "code",
   "execution_count": null,
   "id": "7c44c8fd-63ea-45ba-94bd-5c5e8e1458b3",
   "metadata": {},
   "outputs": [],
   "source": [
    "results[\"tracks\"][\"total\"] # Number of matches"
   ]
  },
  {
   "cell_type": "markdown",
   "id": "7a127c64-3274-4ecc-aa0f-83ae34af4655",
   "metadata": {},
   "source": [
    "## Exploring the tracks"
   ]
  },
  {
   "cell_type": "code",
   "execution_count": null,
   "id": "6c3541a2-0fd2-41e0-9b27-60a7dc36c4cb",
   "metadata": {
    "scrolled": true,
    "tags": []
   },
   "outputs": [],
   "source": [
    "results[\"tracks\"][\"items\"][0] # Explore the first song"
   ]
  },
  {
   "cell_type": "code",
   "execution_count": null,
   "id": "f2c35eb2-3ea6-4329-9f29-7c062f466638",
   "metadata": {},
   "outputs": [],
   "source": [
    "results[\"tracks\"][\"items\"][0].keys() # We will focus on album, artists, id, name, popularity, type and uri"
   ]
  },
  {
   "cell_type": "code",
   "execution_count": null,
   "id": "889ca3c3-b0c8-4037-96fb-6add847f537f",
   "metadata": {},
   "outputs": [],
   "source": [
    "# Track artists\n",
    "results[\"tracks\"][\"items\"][0][\"artists\"] "
   ]
  },
  {
   "cell_type": "code",
   "execution_count": null,
   "id": "a9c6a0b2-cea7-48ff-8c51-179d15388aa2",
   "metadata": {},
   "outputs": [],
   "source": [
    "# Track artists names\n",
    "for artist in results[\"tracks\"][\"items\"][0][\"artists\"]:\n",
    "    print(artist[\"name\"])"
   ]
  },
  {
   "cell_type": "code",
   "execution_count": null,
   "id": "6a826e9c-d2e7-4537-a82c-3dc3a2b80b9f",
   "metadata": {},
   "outputs": [],
   "source": [
    "# Track ID\n",
    "results[\"tracks\"][\"items\"][0][\"id\"] "
   ]
  },
  {
   "cell_type": "code",
   "execution_count": null,
   "id": "a5bd871b-6087-4680-819c-1a1d8ba879bc",
   "metadata": {},
   "outputs": [],
   "source": [
    "# Track name\n",
    "results[\"tracks\"][\"items\"][0][\"name\"] "
   ]
  },
  {
   "cell_type": "code",
   "execution_count": null,
   "id": "812661f1-29db-452f-a719-cdfbe95ba9f6",
   "metadata": {},
   "outputs": [],
   "source": [
    "# Popularity index\n",
    "results[\"tracks\"][\"items\"][0][\"popularity\"] "
   ]
  },
  {
   "cell_type": "markdown",
   "id": "0e81c762-e6c5-424e-a4eb-12ab45dffb9f",
   "metadata": {},
   "source": [
    "Spotify songs are identified by either a \"url\", a \"uri\", or an \"id\". \n",
    "\n",
    "- The `id` is an alphanumeric code, and it's the nuclear part of the identifier.\n",
    "\n",
    "- The `uri` contains \"spotify:track\" before the id. An uri is useful because it can be searched manually in the Spotify app.\n",
    "\n",
    "- The `url` is a link to the song on the Spotify web player.\n"
   ]
  },
  {
   "cell_type": "code",
   "execution_count": null,
   "id": "8bcdccfc-dde9-4f4b-8af5-3caa335b89b5",
   "metadata": {},
   "outputs": [],
   "source": [
    "results[\"tracks\"][\"items\"][0][\"uri\"]"
   ]
  },
  {
   "cell_type": "markdown",
   "id": "71c3c9c1-4ec2-42bf-a243-b21105ae1699",
   "metadata": {},
   "source": [
    "## Exercise 1: Discovering New Music through Your Favorite Artists\n",
    "\n",
    "**Objective:** \n",
    "Uncover new music by exploring the top tracks of your favorite artists and their related artists.\n",
    "\n",
    "**Instructions:**\n",
    "\n",
    "1. **List Your Favorite Artists**:\n",
    "    - Make a list of your three favorite artists and store it in a variable named `artists`.\n",
    "    - Example: `artists = [\"Los Fabulosos Cadillacs\", \"Manu Chao\", \"Muchachito Bombo Infierno\"]`.\n",
    "\n",
    "2. **Fetch Top Tracks**:\n",
    "    - Write a function named `get_top_tracks`.\n",
    "    - This function should accept an artist's name and return the name of the first 5 top tracks by that artist.\n",
    "    - Use the function `get_top_tracks` to get the first 5 top tracks for each artist in your `artists` list and store the results in a new list named `top_tracks_list`.\n",
    "\n",
    "3. **Discover Related Artists**:\n",
    "    - Write a function named `find_related_artists`.\n",
    "    - This function should accept an artist's name and return the names of the first 5 artists related to the provided artist.\n",
    "    - Store the results in a list named `related_artists_list`.\n",
    "\n",
    "**Challenge:** \n",
    "Combine the above steps to create a playlist that includes the top tracks of your favorite artists and the top tracks of the artists related to them."
   ]
  },
  {
   "cell_type": "markdown",
   "id": "0c442378-e26f-47c8-b4f1-b4fa07089935",
   "metadata": {},
   "source": [
    "**Hint Section for 3. **Discover Related Artists**:**\n",
    "\n",
    "1. **Getting Artist ID**:\n",
    "    - Remember that every artist on Spotify has a unique identifier: their `id`. To get the related artists, you first need to fetch the ID of the given artist.\n",
    "    - Consider using the `sp.search` method to query the artist's name. The method requires a `q` parameter, which is your query (in this case, the artist's name). It also has a `limit` parameter, which specifies the number of tracks it returns. In this case, 1 track is enough, since we just want the artist ID. \n",
    "    - Each track in the results has an associated 'artists' field. This field is a list containing details about all artists involved in that track.\n",
    "   - For most tracks, especially those by a single artist, this list will contain one artist. From this artist's details, you can extract the 'id' field, which is the unique identifier for that artist on Spotify.\n",
    "\n",
    "\n",
    "3. **Fetching Related Artists**:\n",
    "    - Once you have the artist's ID, you can use another SpotiPy method to fetch related artists. Think about which SpotiPy method allows you to get related artists using an artist's ID. Here is the documentation link: https://spotipy.readthedocs.io/en/2.22.1/. \n",
    "    - This method will return a list of related artists. You'll need to extract the relevant details (artist names) from this list.\n",
    "\n",
    "4. **Iterating for Multiple Artists**:\n",
    "    - Once you have a function that returns related artists names for one artist, you can use a list comprehension to apply this function to a list of artist names.\n",
    "\n",
    "5. **Testing**:\n",
    "    - Always test your function with one artist name first. Once you're confident it works, then apply it to the entire list.\n",
    "\n",
    "Remember, the key is to break the problem down into manageable steps. Use the SpotiPy documentation as a resource to understand available methods and their return structures."
   ]
  },
  {
   "cell_type": "code",
   "execution_count": 19,
   "id": "29694252-f217-454d-8881-681b2b6eeb1e",
   "metadata": {},
   "outputs": [
    {
     "data": {
      "text/plain": [
       "['Paint The Town Red',\n",
       " 'Kiss Me More (feat. SZA)',\n",
       " 'Agora Hills',\n",
       " 'Woman',\n",
       " 'Streets',\n",
       " 'doomed',\n",
       " 'paralyzed',\n",
       " 'Crush',\n",
       " 'deadman',\n",
       " \"we don't know a thing\",\n",
       " 'Long Beach',\n",
       " 'Colorado',\n",
       " 'Pomegranate',\n",
       " 'Barcelona',\n",
       " 'Alkaline']"
      ]
     },
     "execution_count": 19,
     "metadata": {},
     "output_type": "execute_result"
    }
   ],
   "source": [
    "# Exercise 1, part 1 & part 2\n",
    "\n",
    "import spotipy\n",
    "from spotipy.oauth2 import SpotifyClientCredentials\n",
    "from config import client_id, client_secret\n",
    "\n",
    "sp = spotipy.Spotify(auth_manager=SpotifyClientCredentials(client_id=client_id,\n",
    "                                                           client_secret=client_secret))\n",
    "\n",
    "# list of fave artists\n",
    "artists = ['Doja Cat', 'Souly Had', 'Kota the Friend']\n",
    "\n",
    "# func for top tracks\n",
    "def get_top_tracks(artists):\n",
    "    top_tracks_list = []\n",
    "    # loop through each artist\n",
    "    for artist in artists:\n",
    "        ids = []\n",
    "        # search for the artist and get their id\n",
    "        result = sp.search(q=artist, limit=1)\n",
    "        id_ = result['tracks']['items'][0]['album']['artists'][0]['id']\n",
    "        # append artist id to ids list\n",
    "        ids.append(id_)\n",
    "        # loop through each id\n",
    "        for id_ in ids:\n",
    "            # get top tracks for the artist\n",
    "            top_tracks = sp.artist_top_tracks(id_)\n",
    "            # add the first 5 tracks to the list\n",
    "            for track in top_tracks['tracks'][:5]:\n",
    "                top_tracks_list.append(track['name'])\n",
    "    # return list of top tracks\n",
    "    return top_tracks_list\n",
    "\n",
    "# call\n",
    "get_top_tracks(artists)"
   ]
  },
  {
   "cell_type": "code",
   "execution_count": 25,
   "id": "c537c32e-a756-436f-b998-1e92b6800693",
   "metadata": {},
   "outputs": [
    {
     "data": {
      "text/plain": [
       "['Saba', 'Lute', 'Caleborate', 'Smino', 'Spillage Village']"
      ]
     },
     "execution_count": 25,
     "metadata": {},
     "output_type": "execute_result"
    }
   ],
   "source": [
    "# Exercise 1, part 2\n",
    "\n",
    "# func for related arists\n",
    "def find_related_artists(artist):\n",
    "    # search for the artist and get their id\n",
    "    result = sp.search(q=artist, limit=1)\n",
    "    id_ = result['tracks']['items'][0]['album']['artists'][0]['id']\n",
    "    # get related artists for the artist id\n",
    "    related_artists = sp.artist_related_artists(id_)\n",
    "    related_artists_list = []\n",
    "    # loop through the first 5 related artists\n",
    "    for artist in related_artists['artists'][:5]:\n",
    "        #print(artist['name'])\n",
    "        # add the artist name to the related artists list\n",
    "        related_artists_list.append(artist['name'])\n",
    "    # return the list of related artists\n",
    "    return related_artists_list\n",
    "\n",
    "# test\n",
    "find_related_artists('Kota the Friend')"
   ]
  },
  {
   "cell_type": "code",
   "execution_count": 17,
   "id": "3e6693e6-74b7-4a51-a317-f74bfb2aada1",
   "metadata": {},
   "outputs": [
    {
     "name": "stdout",
     "output_type": "stream",
     "text": [
      "90\n"
     ]
    }
   ],
   "source": [
    "# Exercise 1\n",
    "# Challenge: Combine the above steps to create a playlist that includes the top tracks of your favorite artists\n",
    "# and the top tracks of the artists related to them.\n",
    "\n",
    "artists = ['Doja Cat', 'Souly Had', 'Kota the Friend']\n",
    "related_artists = []\n",
    "for artist in artists:\n",
    "    related_artists += find_related_artists(artist)\n",
    "playlist = get_top_tracks(artists) + get_top_tracks(related_artists)\n",
    "\n",
    "playlist\n",
    "\n",
    "#len(playlist) == (3*5 + 3*5*5)"
   ]
  },
  {
   "cell_type": "markdown",
   "id": "94ad5fdc-22e5-4521-8aa1-c6833eb7e949",
   "metadata": {},
   "source": [
    "## Playlists\n",
    "\n",
    "The `sp.featured_playlists()` method in `spotipy` fetches a list of Spotify's featured playlists at a given moment. These are curated playlists that Spotify often highlights on the platform's homepage. The method provides a snapshot of the playlists that are being promoted or featured by Spotify at the time of the request.\n",
    "\n",
    "Once you've fetched the featured playlists, you can extract their IDs (and other details)."
   ]
  },
  {
   "cell_type": "code",
   "execution_count": null,
   "id": "25fb0cf8-c13a-41b0-b8f8-7e0700fd1e41",
   "metadata": {},
   "outputs": [],
   "source": [
    "sp.featured_playlists() # We get a playlist id of a playlist we like"
   ]
  },
  {
   "cell_type": "markdown",
   "id": "90f558f3-c638-4df4-b5a4-e24f7847d52a",
   "metadata": {},
   "source": [
    "### Getting a Playlist's Details\n",
    "To fetch details about a specific playlist, you can use the playlist method. You'll need the playlist's Spotify ID."
   ]
  },
  {
   "cell_type": "markdown",
   "id": "0eef529f-617f-4ea3-8156-07472ac8e6d5",
   "metadata": {},
   "source": [
    "In this example, we will use the following playlist id: *37i9dQZF1DXd9zR7tdziuQ*"
   ]
  },
  {
   "cell_type": "code",
   "execution_count": null,
   "id": "46d35121-9256-4cf4-81f5-118b87f7af32",
   "metadata": {},
   "outputs": [],
   "source": [
    "playlist_id = \"37i9dQZF1DXd9zR7tdziuQ\"\n",
    "playlist = sp.playlist(playlist_id)"
   ]
  },
  {
   "cell_type": "code",
   "execution_count": null,
   "id": "5260f67f-6024-4fee-8449-30904f03bf76",
   "metadata": {},
   "outputs": [],
   "source": [
    "print(playlist['name'])  # Print the playlist's name\n",
    "print(playlist['description'])  # Print the playlist's description"
   ]
  },
  {
   "cell_type": "markdown",
   "id": "13bc8631-69f0-4b98-9cc9-5baecbaea9ba",
   "metadata": {},
   "source": [
    "### Getting Tracks from a Playlist\n",
    "If you want to get the tracks from a specific playlist, you can use the playlist_tracks method."
   ]
  },
  {
   "cell_type": "code",
   "execution_count": null,
   "id": "69c78f8d-7e6a-4d15-bcbb-fc93edb82433",
   "metadata": {},
   "outputs": [],
   "source": [
    "tracks = sp.playlist_tracks(playlist_id)\n",
    "for track in tracks['items']:\n",
    "    print(track['track']['name'])  # Print each track's name"
   ]
  },
  {
   "cell_type": "markdown",
   "id": "2775714d-acc7-4555-96bd-2c541ab0855e",
   "metadata": {},
   "source": [
    "### Getting Artists from a Playlist\n",
    "\n",
    "To extract all the artists from the tracks in a playlist, you'd typically follow these steps:\n",
    "\n",
    "1. Fetch the playlist's tracks.\n",
    "2. Iterate through each track.\n",
    "3. For each track, extract the associated artists."
   ]
  },
  {
   "cell_type": "code",
   "execution_count": null,
   "id": "65c5e5c4-f186-42c6-b136-4ef02b0b01ff",
   "metadata": {},
   "outputs": [],
   "source": [
    "# List to store unique artist names\n",
    "artists_list = []\n",
    "\n",
    "for track_item in tracks['items']:\n",
    "    track = track_item['track']\n",
    "    for artist in track['artists']:\n",
    "        artist_name = artist['name']\n",
    "        if artist_name not in artists_list:  # This ensures each artist is added only once\n",
    "            artists_list.append(artist_name)\n",
    "\n",
    "print(artists_list)"
   ]
  },
  {
   "cell_type": "markdown",
   "id": "7b52207e-a4f0-4f90-9f4e-3170d7f0f3fe",
   "metadata": {},
   "source": [
    "## Exercise 2: Unraveling the World of Playlists\n",
    "\n",
    "\n",
    "1. **Featured Exploration**: \n",
    "   - Fetch the list of Spotify's current featured playlists. \n",
    "   - Extract and display the names and IDs of the top 5 featured playlists.\n",
    "   \n",
    "2. **Deep Dive**:\n",
    "   - Choose any one of the top 5 featured playlists (you can choose the one you personally find most interesting or simply pick one randomly).\n",
    "   - Fetch and display its name, description, and total track count.\n",
    "\n",
    "3. **Track-tastic**:\n",
    "   - Extract and display the names of the first 10 tracks in the chosen playlist.\n",
    "\n",
    "4. **Artistic Flair**:\n",
    "   - Create a dictionary where the keys are the names of the first 10 tracks, and the values are lists containing the names of the artists associated with each track.\n",
    "   - For example: `{\"TrackName1\": [\"Artist1\", \"Artist2\"], \"TrackName2\": [\"Artist3\"]}`\n",
    "   "
   ]
  },
  {
   "cell_type": "code",
   "execution_count": 31,
   "id": "ed92d961-9646-4375-a386-ccc320a958f5",
   "metadata": {},
   "outputs": [
    {
     "data": {
      "text/plain": [
       "['Hot Hits Deutschland',\n",
       " 'Deutschrap Brandneu',\n",
       " 'Modus Mio',\n",
       " 'Today’s Top Hits',\n",
       " 'Herbstgefühle']"
      ]
     },
     "execution_count": 31,
     "metadata": {},
     "output_type": "execute_result"
    }
   ],
   "source": [
    "import spotipy\n",
    "from spotipy.oauth2 import SpotifyClientCredentials\n",
    "from config import client_id, client_secret\n",
    "\n",
    "sp = spotipy.Spotify(auth_manager=SpotifyClientCredentials(client_id=client_id,\n",
    "                                                           client_secret=client_secret))\n",
    "\n",
    "# Exercise 2, part 1\n",
    "# Fetch the list of Spotify's current featured playlists.\n",
    "result = sp.featured_playlists()\n",
    "\n",
    "# Extract and display the names and IDs of the top 5 featured playlists.\n",
    "# iter over playlists in 'playlists' dictionary, items list, and extract name value of index 'name' \n",
    "playlist_names = [playlist['name'] for playlist in result['playlists']['items']][:5]\n",
    "playlist_names"
   ]
  },
  {
   "cell_type": "code",
   "execution_count": 63,
   "id": "eed09083-821e-4959-abad-c7ee3b526b32",
   "metadata": {},
   "outputs": [
    {
     "name": "stdout",
     "output_type": "stream",
     "text": [
      "Herbstgefühle, Endlich Zeit für Herbstspaziergänge, Gemütlichkeit & heiße Schokolade!, 100\n",
      "{'href': 'https://api.spotify.com/v1/playlists/37i9dQZF1DWZESE3fHLhmD/tracks?offset=0&limit=10&additional_types=track', 'items': [{'added_at': '2024-09-26T06:26:54Z', 'added_by': {'external_urls': {'spotify': 'https://open.spotify.com/user/'}, 'href': 'https://api.spotify.com/v1/users/', 'id': '', 'type': 'user', 'uri': 'spotify:user:'}, 'is_local': False, 'primary_color': None, 'track': {'preview_url': None, 'available_markets': ['AR', 'AU', 'AT', 'BE', 'BO', 'BR', 'BG', 'CA', 'CL', 'CO', 'CR', 'CY', 'CZ', 'DK', 'DO', 'DE', 'EC', 'EE', 'SV', 'FI', 'FR', 'GR', 'GT', 'HN', 'HK', 'HU', 'IS', 'IE', 'IT', 'LV', 'LT', 'LU', 'MY', 'MT', 'MX', 'NL', 'NZ', 'NI', 'NO', 'PA', 'PY', 'PE', 'PH', 'PL', 'PT', 'SG', 'SK', 'ES', 'SE', 'CH', 'TW', 'TR', 'UY', 'US', 'GB', 'AD', 'LI', 'MC', 'ID', 'JP', 'TH', 'VN', 'RO', 'IL', 'ZA', 'SA', 'AE', 'BH', 'QA', 'OM', 'KW', 'EG', 'MA', 'DZ', 'TN', 'LB', 'JO', 'PS', 'IN', 'KZ', 'MD', 'UA', 'AL', 'BA', 'HR', 'ME', 'MK', 'RS', 'SI', 'KR', 'BD', 'PK', 'LK', 'GH', 'KE', 'NG', 'TZ', 'UG', 'AG', 'AM', 'BS', 'BB', 'BZ', 'BT', 'BW', 'BF', 'CV', 'CW', 'DM', 'FJ', 'GM', 'GE', 'GD', 'GW', 'GY', 'HT', 'JM', 'KI', 'LS', 'LR', 'MW', 'MV', 'ML', 'MH', 'FM', 'NA', 'NR', 'NE', 'PW', 'PG', 'WS', 'SM', 'ST', 'SN', 'SC', 'SL', 'SB', 'KN', 'LC', 'VC', 'SR', 'TL', 'TO', 'TT', 'TV', 'VU', 'AZ', 'BN', 'BI', 'KH', 'CM', 'TD', 'KM', 'GQ', 'SZ', 'GA', 'GN', 'KG', 'LA', 'MO', 'MR', 'MN', 'NP', 'RW', 'TG', 'UZ', 'ZW', 'BJ', 'MG', 'MU', 'MZ', 'AO', 'CI', 'DJ', 'ZM', 'CD', 'CG', 'IQ', 'LY', 'TJ', 'VE', 'ET', 'XK'], 'explicit': False, 'type': 'track', 'episode': False, 'track': True, 'album': {'available_markets': ['AR', 'AU', 'AT', 'BE', 'BO', 'BR', 'BG', 'CA', 'CL', 'CO', 'CR', 'CY', 'CZ', 'DK', 'DO', 'DE', 'EC', 'EE', 'SV', 'FI', 'FR', 'GR', 'GT', 'HN', 'HK', 'HU', 'IS', 'IE', 'IT', 'LV', 'LT', 'LU', 'MY', 'MT', 'MX', 'NL', 'NZ', 'NI', 'NO', 'PA', 'PY', 'PE', 'PH', 'PL', 'PT', 'SG', 'SK', 'ES', 'SE', 'CH', 'TW', 'TR', 'UY', 'US', 'GB', 'AD', 'LI', 'MC', 'ID', 'JP', 'TH', 'VN', 'RO', 'IL', 'ZA', 'SA', 'AE', 'BH', 'QA', 'OM', 'KW', 'EG', 'MA', 'DZ', 'TN', 'LB', 'JO', 'PS', 'IN', 'KZ', 'MD', 'UA', 'AL', 'BA', 'HR', 'ME', 'MK', 'RS', 'SI', 'KR', 'BD', 'PK', 'LK', 'GH', 'KE', 'NG', 'TZ', 'UG', 'AG', 'AM', 'BS', 'BB', 'BZ', 'BT', 'BW', 'BF', 'CV', 'CW', 'DM', 'FJ', 'GM', 'GE', 'GD', 'GW', 'GY', 'HT', 'JM', 'KI', 'LS', 'LR', 'MW', 'MV', 'ML', 'MH', 'FM', 'NA', 'NR', 'NE', 'PW', 'PG', 'WS', 'SM', 'ST', 'SN', 'SC', 'SL', 'SB', 'KN', 'LC', 'VC', 'SR', 'TL', 'TO', 'TT', 'TV', 'VU', 'AZ', 'BN', 'BI', 'KH', 'CM', 'TD', 'KM', 'GQ', 'SZ', 'GA', 'GN', 'KG', 'LA', 'MO', 'MR', 'MN', 'NP', 'RW', 'TG', 'UZ', 'ZW', 'BJ', 'MG', 'MU', 'MZ', 'AO', 'CI', 'DJ', 'ZM', 'CD', 'CG', 'IQ', 'LY', 'TJ', 'VE', 'ET', 'XK'], 'type': 'album', 'album_type': 'album', 'href': 'https://api.spotify.com/v1/albums/7aJuG4TFXa2hmE4z1yxc3n', 'id': '7aJuG4TFXa2hmE4z1yxc3n', 'images': [{'height': 640, 'url': 'https://i.scdn.co/image/ab67616d0000b27371d62ea7ea8a5be92d3c1f62', 'width': 640}, {'height': 300, 'url': 'https://i.scdn.co/image/ab67616d00001e0271d62ea7ea8a5be92d3c1f62', 'width': 300}, {'height': 64, 'url': 'https://i.scdn.co/image/ab67616d0000485171d62ea7ea8a5be92d3c1f62', 'width': 64}], 'name': 'HIT ME HARD AND SOFT', 'release_date': '2024-05-17', 'release_date_precision': 'day', 'uri': 'spotify:album:7aJuG4TFXa2hmE4z1yxc3n', 'artists': [{'external_urls': {'spotify': 'https://open.spotify.com/artist/6qqNVTkY8uBg9cP3Jd7DAH'}, 'href': 'https://api.spotify.com/v1/artists/6qqNVTkY8uBg9cP3Jd7DAH', 'id': '6qqNVTkY8uBg9cP3Jd7DAH', 'name': 'Billie Eilish', 'type': 'artist', 'uri': 'spotify:artist:6qqNVTkY8uBg9cP3Jd7DAH'}], 'external_urls': {'spotify': 'https://open.spotify.com/album/7aJuG4TFXa2hmE4z1yxc3n'}, 'total_tracks': 10}, 'artists': [{'external_urls': {'spotify': 'https://open.spotify.com/artist/6qqNVTkY8uBg9cP3Jd7DAH'}, 'href': 'https://api.spotify.com/v1/artists/6qqNVTkY8uBg9cP3Jd7DAH', 'id': '6qqNVTkY8uBg9cP3Jd7DAH', 'name': 'Billie Eilish', 'type': 'artist', 'uri': 'spotify:artist:6qqNVTkY8uBg9cP3Jd7DAH'}], 'disc_number': 1, 'track_number': 4, 'duration_ms': 210373, 'external_ids': {'isrc': 'USUM72401994'}, 'external_urls': {'spotify': 'https://open.spotify.com/track/6dOtVTDdiauQNBQEDOtlAB'}, 'href': 'https://api.spotify.com/v1/tracks/6dOtVTDdiauQNBQEDOtlAB', 'id': '6dOtVTDdiauQNBQEDOtlAB', 'name': 'BIRDS OF A FEATHER', 'popularity': 99, 'uri': 'spotify:track:6dOtVTDdiauQNBQEDOtlAB', 'is_local': False}, 'video_thumbnail': {'url': None}}, {'added_at': '2024-09-26T06:26:54Z', 'added_by': {'external_urls': {'spotify': 'https://open.spotify.com/user/'}, 'href': 'https://api.spotify.com/v1/users/', 'id': '', 'type': 'user', 'uri': 'spotify:user:'}, 'is_local': False, 'primary_color': None, 'track': {'preview_url': None, 'available_markets': ['AR', 'AU', 'AT', 'BE', 'BO', 'BR', 'BG', 'CA', 'CL', 'CO', 'CR', 'CY', 'CZ', 'DK', 'DO', 'DE', 'EC', 'EE', 'SV', 'FI', 'FR', 'GR', 'GT', 'HN', 'HK', 'HU', 'IS', 'IE', 'IT', 'LV', 'LT', 'LU', 'MY', 'MT', 'MX', 'NL', 'NZ', 'NI', 'NO', 'PA', 'PY', 'PE', 'PH', 'PL', 'PT', 'SG', 'SK', 'ES', 'CH', 'TW', 'TR', 'UY', 'US', 'GB', 'AD', 'LI', 'MC', 'ID', 'JP', 'TH', 'VN', 'RO', 'IL', 'ZA', 'SA', 'AE', 'BH', 'QA', 'OM', 'KW', 'EG', 'MA', 'DZ', 'TN', 'LB', 'JO', 'PS', 'IN', 'KZ', 'MD', 'UA', 'AL', 'BA', 'HR', 'ME', 'MK', 'RS', 'SI', 'KR', 'BD', 'PK', 'LK', 'GH', 'KE', 'NG', 'TZ', 'UG', 'AG', 'AM', 'BS', 'BB', 'BZ', 'BT', 'BW', 'BF', 'CV', 'CW', 'DM', 'FJ', 'GM', 'GE', 'GD', 'GW', 'GY', 'HT', 'JM', 'KI', 'LS', 'LR', 'MW', 'MV', 'ML', 'MH', 'FM', 'NA', 'NR', 'NE', 'PW', 'PG', 'WS', 'SM', 'ST', 'SN', 'SC', 'SL', 'SB', 'KN', 'LC', 'VC', 'SR', 'TL', 'TO', 'TT', 'TV', 'VU', 'AZ', 'BN', 'BI', 'KH', 'CM', 'TD', 'KM', 'GQ', 'SZ', 'GA', 'GN', 'KG', 'LA', 'MO', 'MR', 'MN', 'NP', 'RW', 'TG', 'UZ', 'ZW', 'BJ', 'MG', 'MU', 'MZ', 'AO', 'CI', 'DJ', 'ZM', 'CD', 'CG', 'IQ', 'LY', 'TJ', 'VE', 'ET', 'XK'], 'explicit': True, 'type': 'track', 'episode': False, 'track': True, 'album': {'available_markets': ['AR', 'AU', 'AT', 'BE', 'BO', 'BR', 'BG', 'CA', 'CL', 'CO', 'CR', 'CY', 'CZ', 'DK', 'DO', 'DE', 'EC', 'EE', 'SV', 'FI', 'FR', 'GR', 'GT', 'HN', 'HK', 'HU', 'IS', 'IE', 'IT', 'LV', 'LT', 'LU', 'MY', 'MT', 'MX', 'NL', 'NZ', 'NI', 'NO', 'PA', 'PY', 'PE', 'PH', 'PL', 'PT', 'SG', 'SK', 'ES', 'CH', 'TW', 'TR', 'UY', 'US', 'GB', 'AD', 'LI', 'MC', 'ID', 'JP', 'TH', 'VN', 'RO', 'IL', 'ZA', 'SA', 'AE', 'BH', 'QA', 'OM', 'KW', 'EG', 'MA', 'DZ', 'TN', 'LB', 'JO', 'PS', 'IN', 'KZ', 'MD', 'UA', 'AL', 'BA', 'HR', 'ME', 'MK', 'RS', 'SI', 'KR', 'BD', 'PK', 'LK', 'GH', 'KE', 'NG', 'TZ', 'UG', 'AG', 'AM', 'BS', 'BB', 'BZ', 'BT', 'BW', 'BF', 'CV', 'CW', 'DM', 'FJ', 'GM', 'GE', 'GD', 'GW', 'GY', 'HT', 'JM', 'KI', 'LS', 'LR', 'MW', 'MV', 'ML', 'MH', 'FM', 'NA', 'NR', 'NE', 'PW', 'PG', 'WS', 'SM', 'ST', 'SN', 'SC', 'SL', 'SB', 'KN', 'LC', 'VC', 'SR', 'TL', 'TO', 'TT', 'TV', 'VU', 'AZ', 'BN', 'BI', 'KH', 'CM', 'TD', 'KM', 'GQ', 'SZ', 'GA', 'GN', 'KG', 'LA', 'MO', 'MR', 'MN', 'NP', 'RW', 'TG', 'UZ', 'ZW', 'BJ', 'MG', 'MU', 'MZ', 'AO', 'CI', 'DJ', 'ZM', 'CD', 'CG', 'IQ', 'LY', 'TJ', 'VE', 'ET', 'XK'], 'type': 'album', 'album_type': 'single', 'href': 'https://api.spotify.com/v1/albums/5quMTd5zeI9yW5UDua8wS4', 'id': '5quMTd5zeI9yW5UDua8wS4', 'images': [{'height': 640, 'url': 'https://i.scdn.co/image/ab67616d0000b273659cd4673230913b3918e0d5', 'width': 640}, {'height': 300, 'url': 'https://i.scdn.co/image/ab67616d00001e02659cd4673230913b3918e0d5', 'width': 300}, {'height': 64, 'url': 'https://i.scdn.co/image/ab67616d00004851659cd4673230913b3918e0d5', 'width': 64}], 'name': 'Espresso', 'release_date': '2024-04-12', 'release_date_precision': 'day', 'uri': 'spotify:album:5quMTd5zeI9yW5UDua8wS4', 'artists': [{'external_urls': {'spotify': 'https://open.spotify.com/artist/74KM79TiuVKeVCqs8QtB0B'}, 'href': 'https://api.spotify.com/v1/artists/74KM79TiuVKeVCqs8QtB0B', 'id': '74KM79TiuVKeVCqs8QtB0B', 'name': 'Sabrina Carpenter', 'type': 'artist', 'uri': 'spotify:artist:74KM79TiuVKeVCqs8QtB0B'}], 'external_urls': {'spotify': 'https://open.spotify.com/album/5quMTd5zeI9yW5UDua8wS4'}, 'total_tracks': 1}, 'artists': [{'external_urls': {'spotify': 'https://open.spotify.com/artist/74KM79TiuVKeVCqs8QtB0B'}, 'href': 'https://api.spotify.com/v1/artists/74KM79TiuVKeVCqs8QtB0B', 'id': '74KM79TiuVKeVCqs8QtB0B', 'name': 'Sabrina Carpenter', 'type': 'artist', 'uri': 'spotify:artist:74KM79TiuVKeVCqs8QtB0B'}], 'disc_number': 1, 'track_number': 1, 'duration_ms': 175459, 'external_ids': {'isrc': 'USUM72403305'}, 'external_urls': {'spotify': 'https://open.spotify.com/track/2qSkIjg1o9h3YT9RAgYN75'}, 'href': 'https://api.spotify.com/v1/tracks/2qSkIjg1o9h3YT9RAgYN75', 'id': '2qSkIjg1o9h3YT9RAgYN75', 'name': 'Espresso', 'popularity': 97, 'uri': 'spotify:track:2qSkIjg1o9h3YT9RAgYN75', 'is_local': False}, 'video_thumbnail': {'url': None}}, {'added_at': '2024-09-26T06:26:54Z', 'added_by': {'external_urls': {'spotify': 'https://open.spotify.com/user/'}, 'href': 'https://api.spotify.com/v1/users/', 'id': '', 'type': 'user', 'uri': 'spotify:user:'}, 'is_local': False, 'primary_color': None, 'track': {'preview_url': None, 'available_markets': ['AR', 'AU', 'AT', 'BE', 'BO', 'BR', 'BG', 'CA', 'CL', 'CO', 'CR', 'CY', 'CZ', 'DK', 'DO', 'DE', 'EC', 'EE', 'SV', 'FI', 'FR', 'GR', 'GT', 'HN', 'HK', 'HU', 'IS', 'IE', 'IT', 'LV', 'LT', 'LU', 'MY', 'MT', 'MX', 'NL', 'NZ', 'NI', 'NO', 'PA', 'PY', 'PE', 'PH', 'PL', 'PT', 'SG', 'SK', 'ES', 'SE', 'CH', 'TW', 'TR', 'UY', 'US', 'GB', 'AD', 'LI', 'MC', 'ID', 'JP', 'TH', 'VN', 'RO', 'IL', 'ZA', 'SA', 'AE', 'BH', 'QA', 'OM', 'KW', 'EG', 'MA', 'DZ', 'TN', 'LB', 'JO', 'PS', 'IN', 'KZ', 'MD', 'UA', 'AL', 'BA', 'HR', 'ME', 'MK', 'RS', 'SI', 'KR', 'BD', 'PK', 'LK', 'GH', 'KE', 'NG', 'TZ', 'UG', 'AG', 'AM', 'BS', 'BB', 'BZ', 'BT', 'BW', 'BF', 'CV', 'CW', 'DM', 'FJ', 'GM', 'GE', 'GD', 'GW', 'GY', 'HT', 'JM', 'KI', 'LS', 'LR', 'MW', 'MV', 'ML', 'MH', 'FM', 'NA', 'NR', 'NE', 'PW', 'PG', 'WS', 'SM', 'ST', 'SN', 'SC', 'SL', 'SB', 'KN', 'LC', 'VC', 'SR', 'TL', 'TO', 'TT', 'TV', 'VU', 'AZ', 'BN', 'BI', 'KH', 'CM', 'TD', 'KM', 'GQ', 'SZ', 'GA', 'GN', 'KG', 'LA', 'MO', 'MR', 'MN', 'NP', 'RW', 'TG', 'UZ', 'ZW', 'BJ', 'MG', 'MU', 'MZ', 'AO', 'CI', 'DJ', 'ZM', 'CD', 'CG', 'IQ', 'LY', 'TJ', 'VE', 'ET', 'XK'], 'explicit': False, 'type': 'track', 'episode': False, 'track': True, 'album': {'available_markets': ['AR', 'AU', 'AT', 'BE', 'BO', 'BR', 'BG', 'CA', 'CL', 'CO', 'CR', 'CY', 'CZ', 'DK', 'DO', 'DE', 'EC', 'EE', 'SV', 'FI', 'FR', 'GR', 'GT', 'HN', 'HK', 'HU', 'IS', 'IE', 'IT', 'LV', 'LT', 'LU', 'MY', 'MT', 'MX', 'NL', 'NZ', 'NI', 'NO', 'PA', 'PY', 'PE', 'PH', 'PL', 'PT', 'SG', 'SK', 'ES', 'SE', 'CH', 'TW', 'TR', 'UY', 'US', 'GB', 'AD', 'LI', 'MC', 'ID', 'JP', 'TH', 'VN', 'RO', 'IL', 'ZA', 'SA', 'AE', 'BH', 'QA', 'OM', 'KW', 'EG', 'MA', 'DZ', 'TN', 'LB', 'JO', 'PS', 'IN', 'KZ', 'MD', 'UA', 'AL', 'BA', 'HR', 'ME', 'MK', 'RS', 'SI', 'KR', 'BD', 'PK', 'LK', 'GH', 'KE', 'NG', 'TZ', 'UG', 'AG', 'AM', 'BS', 'BB', 'BZ', 'BT', 'BW', 'BF', 'CV', 'CW', 'DM', 'FJ', 'GM', 'GE', 'GD', 'GW', 'GY', 'HT', 'JM', 'KI', 'LS', 'LR', 'MW', 'MV', 'ML', 'MH', 'FM', 'NA', 'NR', 'NE', 'PW', 'PG', 'WS', 'SM', 'ST', 'SN', 'SC', 'SL', 'SB', 'KN', 'LC', 'VC', 'SR', 'TL', 'TO', 'TT', 'TV', 'VU', 'AZ', 'BN', 'BI', 'KH', 'CM', 'TD', 'KM', 'GQ', 'SZ', 'GA', 'GN', 'KG', 'LA', 'MO', 'MR', 'MN', 'NP', 'RW', 'TG', 'UZ', 'ZW', 'BJ', 'MG', 'MU', 'MZ', 'AO', 'CI', 'DJ', 'ZM', 'CD', 'CG', 'IQ', 'LY', 'TJ', 'VE', 'ET', 'XK'], 'type': 'album', 'album_type': 'single', 'href': 'https://api.spotify.com/v1/albums/1WAjjRMfZjEXtB0lQrAw6Q', 'id': '1WAjjRMfZjEXtB0lQrAw6Q', 'images': [{'height': 640, 'url': 'https://i.scdn.co/image/ab67616d0000b27391b4bc7c88d91a42e0f3a8b7', 'width': 640}, {'height': 300, 'url': 'https://i.scdn.co/image/ab67616d00001e0291b4bc7c88d91a42e0f3a8b7', 'width': 300}, {'height': 64, 'url': 'https://i.scdn.co/image/ab67616d0000485191b4bc7c88d91a42e0f3a8b7', 'width': 64}], 'name': 'Good Luck, Babe!', 'release_date': '2024-04-05', 'release_date_precision': 'day', 'uri': 'spotify:album:1WAjjRMfZjEXtB0lQrAw6Q', 'artists': [{'external_urls': {'spotify': 'https://open.spotify.com/artist/7GlBOeep6PqTfFi59PTUUN'}, 'href': 'https://api.spotify.com/v1/artists/7GlBOeep6PqTfFi59PTUUN', 'id': '7GlBOeep6PqTfFi59PTUUN', 'name': 'Chappell Roan', 'type': 'artist', 'uri': 'spotify:artist:7GlBOeep6PqTfFi59PTUUN'}], 'external_urls': {'spotify': 'https://open.spotify.com/album/1WAjjRMfZjEXtB0lQrAw6Q'}, 'total_tracks': 1}, 'artists': [{'external_urls': {'spotify': 'https://open.spotify.com/artist/7GlBOeep6PqTfFi59PTUUN'}, 'href': 'https://api.spotify.com/v1/artists/7GlBOeep6PqTfFi59PTUUN', 'id': '7GlBOeep6PqTfFi59PTUUN', 'name': 'Chappell Roan', 'type': 'artist', 'uri': 'spotify:artist:7GlBOeep6PqTfFi59PTUUN'}], 'disc_number': 1, 'track_number': 1, 'duration_ms': 218423, 'external_ids': {'isrc': 'USUG12401967'}, 'external_urls': {'spotify': 'https://open.spotify.com/track/0WbMK4wrZ1wFSty9F7FCgu'}, 'href': 'https://api.spotify.com/v1/tracks/0WbMK4wrZ1wFSty9F7FCgu', 'id': '0WbMK4wrZ1wFSty9F7FCgu', 'name': 'Good Luck, Babe!', 'popularity': 97, 'uri': 'spotify:track:0WbMK4wrZ1wFSty9F7FCgu', 'is_local': False}, 'video_thumbnail': {'url': None}}, {'added_at': '2024-09-26T06:26:54Z', 'added_by': {'external_urls': {'spotify': 'https://open.spotify.com/user/'}, 'href': 'https://api.spotify.com/v1/users/', 'id': '', 'type': 'user', 'uri': 'spotify:user:'}, 'is_local': False, 'primary_color': None, 'track': {'preview_url': 'https://p.scdn.co/mp3-preview/877602f424a9dea277b13301ffc516f9fd1fbe7e?cid=37d7662aabcc4b7b853f52b8023afab2', 'available_markets': ['AR', 'AU', 'AT', 'BE', 'BO', 'BR', 'BG', 'CA', 'CL', 'CO', 'CR', 'CY', 'CZ', 'DK', 'DO', 'DE', 'EC', 'EE', 'SV', 'FI', 'FR', 'GR', 'GT', 'HN', 'HK', 'HU', 'IS', 'IT', 'LV', 'LT', 'LU', 'MY', 'MT', 'MX', 'NL', 'NZ', 'NI', 'NO', 'PA', 'PY', 'PE', 'PH', 'PL', 'PT', 'SG', 'SK', 'ES', 'SE', 'CH', 'TW', 'TR', 'UY', 'US', 'AD', 'LI', 'MC', 'ID', 'JP', 'TH', 'VN', 'RO', 'IL', 'ZA', 'SA', 'AE', 'BH', 'QA', 'OM', 'KW', 'EG', 'MA', 'DZ', 'TN', 'LB', 'JO', 'PS', 'IN', 'BY', 'KZ', 'MD', 'UA', 'AL', 'BA', 'HR', 'ME', 'MK', 'RS', 'SI', 'BD', 'PK', 'LK', 'GH', 'KE', 'NG', 'TZ', 'UG', 'AG', 'AM', 'BS', 'BB', 'BZ', 'BT', 'BW', 'BF', 'CV', 'CW', 'DM', 'FJ', 'GM', 'GE', 'GD', 'GW', 'GY', 'HT', 'JM', 'KI', 'LS', 'LR', 'MW', 'MV', 'ML', 'MH', 'FM', 'NA', 'NR', 'NE', 'PW', 'PG', 'PR', 'WS', 'SM', 'ST', 'SN', 'SC', 'SL', 'SB', 'KN', 'LC', 'VC', 'SR', 'TL', 'TO', 'TT', 'TV', 'VU', 'AZ', 'BN', 'BI', 'KH', 'CM', 'TD', 'KM', 'GQ', 'SZ', 'GA', 'GN', 'KG', 'LA', 'MO', 'MR', 'MN', 'NP', 'RW', 'TG', 'UZ', 'ZW', 'BJ', 'MG', 'MU', 'MZ', 'AO', 'CI', 'DJ', 'ZM', 'CD', 'CG', 'IQ', 'LY', 'TJ', 'VE', 'ET', 'XK'], 'explicit': False, 'type': 'track', 'episode': False, 'track': True, 'album': {'available_markets': ['AR', 'AU', 'AT', 'BE', 'BO', 'BR', 'BG', 'CA', 'CL', 'CO', 'CR', 'CY', 'CZ', 'DK', 'DO', 'DE', 'EC', 'EE', 'SV', 'FI', 'FR', 'GR', 'GT', 'HN', 'HK', 'HU', 'IS', 'IT', 'LV', 'LT', 'LU', 'MY', 'MT', 'MX', 'NL', 'NZ', 'NI', 'NO', 'PA', 'PY', 'PE', 'PH', 'PL', 'PT', 'SG', 'SK', 'ES', 'SE', 'CH', 'TW', 'TR', 'UY', 'US', 'AD', 'LI', 'MC', 'ID', 'JP', 'TH', 'VN', 'RO', 'IL', 'ZA', 'SA', 'AE', 'BH', 'QA', 'OM', 'KW', 'EG', 'MA', 'DZ', 'TN', 'LB', 'JO', 'PS', 'IN', 'BY', 'KZ', 'MD', 'UA', 'AL', 'BA', 'HR', 'ME', 'MK', 'RS', 'SI', 'BD', 'PK', 'LK', 'GH', 'KE', 'NG', 'TZ', 'UG', 'AG', 'AM', 'BS', 'BB', 'BZ', 'BT', 'BW', 'BF', 'CV', 'CW', 'DM', 'FJ', 'GM', 'GE', 'GD', 'GW', 'GY', 'HT', 'JM', 'KI', 'LS', 'LR', 'MW', 'MV', 'ML', 'MH', 'FM', 'NA', 'NR', 'NE', 'PW', 'PG', 'PR', 'WS', 'SM', 'ST', 'SN', 'SC', 'SL', 'SB', 'KN', 'LC', 'VC', 'SR', 'TL', 'TO', 'TT', 'TV', 'VU', 'AZ', 'BN', 'BI', 'KH', 'CM', 'TD', 'KM', 'GQ', 'SZ', 'GA', 'GN', 'KG', 'LA', 'MO', 'MR', 'MN', 'NP', 'RW', 'TG', 'UZ', 'ZW', 'BJ', 'MG', 'MU', 'MZ', 'AO', 'CI', 'DJ', 'ZM', 'CD', 'CG', 'IQ', 'LY', 'TJ', 'VE', 'ET', 'XK'], 'type': 'album', 'album_type': 'album', 'href': 'https://api.spotify.com/v1/albums/4xkM0BwLM9H2IUcbYzpcBI', 'id': '4xkM0BwLM9H2IUcbYzpcBI', 'images': [{'height': 640, 'url': 'https://i.scdn.co/image/ab67616d0000b2738265a736a1eb838ad5a0b921', 'width': 640}, {'height': 300, 'url': 'https://i.scdn.co/image/ab67616d00001e028265a736a1eb838ad5a0b921', 'width': 300}, {'height': 64, 'url': 'https://i.scdn.co/image/ab67616d000048518265a736a1eb838ad5a0b921', 'width': 64}], 'name': 'I Love You.', 'release_date': '2013-04-22', 'release_date_precision': 'day', 'uri': 'spotify:album:4xkM0BwLM9H2IUcbYzpcBI', 'artists': [{'external_urls': {'spotify': 'https://open.spotify.com/artist/77SW9BnxLY8rJ0RciFqkHh'}, 'href': 'https://api.spotify.com/v1/artists/77SW9BnxLY8rJ0RciFqkHh', 'id': '77SW9BnxLY8rJ0RciFqkHh', 'name': 'The Neighbourhood', 'type': 'artist', 'uri': 'spotify:artist:77SW9BnxLY8rJ0RciFqkHh'}], 'external_urls': {'spotify': 'https://open.spotify.com/album/4xkM0BwLM9H2IUcbYzpcBI'}, 'total_tracks': 11}, 'artists': [{'external_urls': {'spotify': 'https://open.spotify.com/artist/77SW9BnxLY8rJ0RciFqkHh'}, 'href': 'https://api.spotify.com/v1/artists/77SW9BnxLY8rJ0RciFqkHh', 'id': '77SW9BnxLY8rJ0RciFqkHh', 'name': 'The Neighbourhood', 'type': 'artist', 'uri': 'spotify:artist:77SW9BnxLY8rJ0RciFqkHh'}], 'disc_number': 1, 'track_number': 4, 'duration_ms': 240400, 'external_ids': {'isrc': 'USSM11300080'}, 'external_urls': {'spotify': 'https://open.spotify.com/track/2QjOHCTQ1Jl3zawyYOpxh6'}, 'href': 'https://api.spotify.com/v1/tracks/2QjOHCTQ1Jl3zawyYOpxh6', 'id': '2QjOHCTQ1Jl3zawyYOpxh6', 'name': 'Sweater Weather', 'popularity': 91, 'uri': 'spotify:track:2QjOHCTQ1Jl3zawyYOpxh6', 'is_local': False}, 'video_thumbnail': {'url': None}}, {'added_at': '2024-09-26T06:26:54Z', 'added_by': {'external_urls': {'spotify': 'https://open.spotify.com/user/'}, 'href': 'https://api.spotify.com/v1/users/', 'id': '', 'type': 'user', 'uri': 'spotify:user:'}, 'is_local': False, 'primary_color': None, 'track': {'preview_url': 'https://p.scdn.co/mp3-preview/2f6f0965be46144eca9212258c7a2988376727a1?cid=37d7662aabcc4b7b853f52b8023afab2', 'available_markets': ['AR', 'AU', 'AT', 'BE', 'BO', 'BR', 'BG', 'CA', 'CL', 'CO', 'CR', 'CY', 'CZ', 'DK', 'DO', 'DE', 'EC', 'EE', 'SV', 'FI', 'FR', 'GR', 'GT', 'HN', 'HK', 'HU', 'IS', 'IE', 'IT', 'LV', 'LT', 'LU', 'MY', 'MT', 'MX', 'NL', 'NZ', 'NI', 'NO', 'PA', 'PY', 'PE', 'PH', 'PL', 'PT', 'SG', 'SK', 'ES', 'SE', 'CH', 'TW', 'TR', 'UY', 'US', 'GB', 'AD', 'LI', 'MC', 'ID', 'JP', 'TH', 'VN', 'RO', 'IL', 'ZA', 'SA', 'AE', 'BH', 'QA', 'OM', 'KW', 'EG', 'MA', 'DZ', 'TN', 'LB', 'JO', 'PS', 'IN', 'BY', 'KZ', 'MD', 'UA', 'AL', 'BA', 'HR', 'ME', 'MK', 'RS', 'SI', 'KR', 'BD', 'PK', 'LK', 'GH', 'KE', 'NG', 'TZ', 'UG', 'AG', 'AM', 'BS', 'BB', 'BZ', 'BT', 'BW', 'BF', 'CV', 'CW', 'DM', 'FJ', 'GM', 'GE', 'GD', 'GW', 'GY', 'HT', 'JM', 'KI', 'LS', 'LR', 'MW', 'MV', 'ML', 'MH', 'FM', 'NA', 'NR', 'NE', 'PW', 'PG', 'PR', 'WS', 'SM', 'ST', 'SN', 'SC', 'SL', 'SB', 'KN', 'LC', 'VC', 'SR', 'TL', 'TO', 'TT', 'TV', 'VU', 'AZ', 'BN', 'BI', 'KH', 'CM', 'TD', 'KM', 'GQ', 'SZ', 'GA', 'GN', 'KG', 'LA', 'MO', 'MR', 'MN', 'NP', 'RW', 'TG', 'UZ', 'ZW', 'BJ', 'MG', 'MU', 'MZ', 'AO', 'CI', 'DJ', 'ZM', 'CD', 'CG', 'IQ', 'LY', 'TJ', 'VE', 'ET', 'XK'], 'explicit': False, 'type': 'track', 'episode': False, 'track': True, 'album': {'available_markets': ['AR', 'AU', 'AT', 'BE', 'BO', 'BR', 'BG', 'CA', 'CL', 'CO', 'CR', 'CY', 'CZ', 'DK', 'DO', 'DE', 'EC', 'EE', 'SV', 'FI', 'FR', 'GR', 'GT', 'HN', 'HK', 'HU', 'IS', 'IE', 'IT', 'LV', 'LT', 'LU', 'MY', 'MT', 'MX', 'NL', 'NZ', 'NI', 'NO', 'PA', 'PY', 'PE', 'PH', 'PL', 'PT', 'SG', 'SK', 'ES', 'SE', 'CH', 'TW', 'TR', 'UY', 'US', 'GB', 'AD', 'LI', 'MC', 'ID', 'JP', 'TH', 'VN', 'RO', 'IL', 'ZA', 'SA', 'AE', 'BH', 'QA', 'OM', 'KW', 'EG', 'MA', 'DZ', 'TN', 'LB', 'JO', 'PS', 'IN', 'BY', 'KZ', 'MD', 'UA', 'AL', 'BA', 'HR', 'ME', 'MK', 'RS', 'SI', 'KR', 'BD', 'PK', 'LK', 'GH', 'KE', 'NG', 'TZ', 'UG', 'AG', 'AM', 'BS', 'BB', 'BZ', 'BT', 'BW', 'BF', 'CV', 'CW', 'DM', 'FJ', 'GM', 'GE', 'GD', 'GW', 'GY', 'HT', 'JM', 'KI', 'LS', 'LR', 'MW', 'MV', 'ML', 'MH', 'FM', 'NA', 'NR', 'NE', 'PW', 'PG', 'PR', 'WS', 'SM', 'ST', 'SN', 'SC', 'SL', 'SB', 'KN', 'LC', 'VC', 'SR', 'TL', 'TO', 'TT', 'TV', 'VU', 'AZ', 'BN', 'BI', 'KH', 'CM', 'TD', 'KM', 'GQ', 'SZ', 'GA', 'GN', 'KG', 'LA', 'MO', 'MR', 'MN', 'NP', 'RW', 'TG', 'UZ', 'ZW', 'BJ', 'MG', 'MU', 'MZ', 'AO', 'CI', 'DJ', 'ZM', 'CD', 'CG', 'IQ', 'LY', 'TJ', 'VE', 'ET', 'XK'], 'type': 'album', 'album_type': 'album', 'href': 'https://api.spotify.com/v1/albums/4JDXBZdRPId4devseaAOKH', 'id': '4JDXBZdRPId4devseaAOKH', 'images': [{'height': 640, 'url': 'https://i.scdn.co/image/ab67616d0000b273fddfffec51b4580acae727c1', 'width': 640}, {'height': 300, 'url': 'https://i.scdn.co/image/ab67616d00001e02fddfffec51b4580acae727c1', 'width': 300}, {'height': 64, 'url': 'https://i.scdn.co/image/ab67616d00004851fddfffec51b4580acae727c1', 'width': 64}], 'name': 'DECIDE', 'release_date': '2022-09-16', 'release_date_precision': 'day', 'uri': 'spotify:album:4JDXBZdRPId4devseaAOKH', 'artists': [{'external_urls': {'spotify': 'https://open.spotify.com/artist/5p9HO3XC5P3BLxJs5Mtrhm'}, 'href': 'https://api.spotify.com/v1/artists/5p9HO3XC5P3BLxJs5Mtrhm', 'id': '5p9HO3XC5P3BLxJs5Mtrhm', 'name': 'Djo', 'type': 'artist', 'uri': 'spotify:artist:5p9HO3XC5P3BLxJs5Mtrhm'}], 'external_urls': {'spotify': 'https://open.spotify.com/album/4JDXBZdRPId4devseaAOKH'}, 'total_tracks': 13}, 'artists': [{'external_urls': {'spotify': 'https://open.spotify.com/artist/5p9HO3XC5P3BLxJs5Mtrhm'}, 'href': 'https://api.spotify.com/v1/artists/5p9HO3XC5P3BLxJs5Mtrhm', 'id': '5p9HO3XC5P3BLxJs5Mtrhm', 'name': 'Djo', 'type': 'artist', 'uri': 'spotify:artist:5p9HO3XC5P3BLxJs5Mtrhm'}], 'disc_number': 1, 'track_number': 6, 'duration_ms': 159245, 'external_ids': {'isrc': 'GBKPL2205058'}, 'external_urls': {'spotify': 'https://open.spotify.com/track/3qhlB30KknSejmIvZZLjOD'}, 'href': 'https://api.spotify.com/v1/tracks/3qhlB30KknSejmIvZZLjOD', 'id': '3qhlB30KknSejmIvZZLjOD', 'name': 'End of Beginning', 'popularity': 91, 'uri': 'spotify:track:3qhlB30KknSejmIvZZLjOD', 'is_local': False}, 'video_thumbnail': {'url': None}}, {'added_at': '2024-09-26T06:26:54Z', 'added_by': {'external_urls': {'spotify': 'https://open.spotify.com/user/'}, 'href': 'https://api.spotify.com/v1/users/', 'id': '', 'type': 'user', 'uri': 'spotify:user:'}, 'is_local': False, 'primary_color': None, 'track': {'preview_url': 'https://p.scdn.co/mp3-preview/b87f1cd1edd4f7b5102fdae8c6d434536160bc2f?cid=37d7662aabcc4b7b853f52b8023afab2', 'available_markets': ['AR', 'AU', 'AT', 'BE', 'BO', 'BR', 'BG', 'CA', 'CL', 'CO', 'CR', 'CY', 'CZ', 'DK', 'DO', 'DE', 'EC', 'EE', 'SV', 'FI', 'FR', 'GR', 'GT', 'HN', 'HK', 'HU', 'IS', 'IE', 'IT', 'LV', 'LT', 'LU', 'MY', 'MT', 'MX', 'NL', 'NZ', 'NI', 'NO', 'PA', 'PY', 'PE', 'PH', 'PL', 'PT', 'SG', 'SK', 'ES', 'SE', 'CH', 'TW', 'TR', 'UY', 'US', 'GB', 'AD', 'LI', 'MC', 'ID', 'JP', 'TH', 'VN', 'RO', 'IL', 'ZA', 'SA', 'AE', 'BH', 'QA', 'OM', 'KW', 'EG', 'MA', 'DZ', 'TN', 'LB', 'JO', 'PS', 'IN', 'BY', 'KZ', 'MD', 'UA', 'AL', 'BA', 'HR', 'ME', 'MK', 'RS', 'SI', 'KR', 'BD', 'PK', 'LK', 'GH', 'KE', 'NG', 'TZ', 'UG', 'AG', 'AM', 'BS', 'BB', 'BZ', 'BT', 'BW', 'BF', 'CV', 'CW', 'DM', 'FJ', 'GM', 'GE', 'GD', 'GW', 'GY', 'HT', 'JM', 'KI', 'LS', 'LR', 'MW', 'MV', 'ML', 'MH', 'FM', 'NA', 'NR', 'NE', 'PW', 'PG', 'PR', 'WS', 'SM', 'ST', 'SN', 'SC', 'SL', 'SB', 'KN', 'LC', 'VC', 'SR', 'TL', 'TO', 'TT', 'TV', 'VU', 'AZ', 'BN', 'BI', 'KH', 'CM', 'TD', 'KM', 'GQ', 'SZ', 'GA', 'GN', 'KG', 'LA', 'MO', 'MR', 'MN', 'NP', 'RW', 'TG', 'UZ', 'ZW', 'BJ', 'MG', 'MU', 'MZ', 'AO', 'CI', 'DJ', 'ZM', 'CD', 'CG', 'IQ', 'LY', 'TJ', 'VE', 'ET', 'XK'], 'explicit': False, 'type': 'track', 'episode': False, 'track': True, 'album': {'available_markets': ['AR', 'AU', 'AT', 'BE', 'BO', 'BR', 'BG', 'CA', 'CL', 'CO', 'CR', 'CY', 'CZ', 'DK', 'DO', 'DE', 'EC', 'EE', 'SV', 'FI', 'FR', 'GR', 'GT', 'HN', 'HK', 'HU', 'IS', 'IE', 'IT', 'LV', 'LT', 'LU', 'MY', 'MT', 'MX', 'NL', 'NZ', 'NI', 'NO', 'PA', 'PY', 'PE', 'PH', 'PL', 'PT', 'SG', 'SK', 'ES', 'SE', 'CH', 'TW', 'TR', 'UY', 'US', 'GB', 'AD', 'LI', 'MC', 'ID', 'JP', 'TH', 'VN', 'RO', 'IL', 'ZA', 'SA', 'AE', 'BH', 'QA', 'OM', 'KW', 'EG', 'MA', 'DZ', 'TN', 'LB', 'JO', 'PS', 'IN', 'BY', 'KZ', 'MD', 'UA', 'AL', 'BA', 'HR', 'ME', 'MK', 'RS', 'SI', 'KR', 'BD', 'PK', 'LK', 'GH', 'KE', 'NG', 'TZ', 'UG', 'AG', 'AM', 'BS', 'BB', 'BZ', 'BT', 'BW', 'BF', 'CV', 'CW', 'DM', 'FJ', 'GM', 'GE', 'GD', 'GW', 'GY', 'HT', 'JM', 'KI', 'LS', 'LR', 'MW', 'MV', 'ML', 'MH', 'FM', 'NA', 'NR', 'NE', 'PW', 'PG', 'PR', 'WS', 'SM', 'ST', 'SN', 'SC', 'SL', 'SB', 'KN', 'LC', 'VC', 'SR', 'TL', 'TO', 'TT', 'TV', 'VU', 'AZ', 'BN', 'BI', 'KH', 'CM', 'TD', 'KM', 'GQ', 'SZ', 'GA', 'GN', 'KG', 'LA', 'MO', 'MR', 'MN', 'NP', 'RW', 'TG', 'UZ', 'ZW', 'BJ', 'MG', 'MU', 'MZ', 'AO', 'CI', 'DJ', 'ZM', 'CD', 'CG', 'IQ', 'LY', 'TJ', 'VE', 'ET', 'XK'], 'type': 'album', 'album_type': 'single', 'href': 'https://api.spotify.com/v1/albums/4DWrYvfGXRE8ko5ZxlIpit', 'id': '4DWrYvfGXRE8ko5ZxlIpit', 'images': [{'height': 640, 'url': 'https://i.scdn.co/image/ab67616d0000b2730f588c6bdb28000656d084bf', 'width': 640}, {'height': 300, 'url': 'https://i.scdn.co/image/ab67616d00001e020f588c6bdb28000656d084bf', 'width': 300}, {'height': 64, 'url': 'https://i.scdn.co/image/ab67616d000048510f588c6bdb28000656d084bf', 'width': 64}], 'name': 'Sailor Song', 'release_date': '2024-07-26', 'release_date_precision': 'day', 'uri': 'spotify:album:4DWrYvfGXRE8ko5ZxlIpit', 'artists': [{'external_urls': {'spotify': 'https://open.spotify.com/artist/1iCnM8foFssWlPRLfAbIwo'}, 'href': 'https://api.spotify.com/v1/artists/1iCnM8foFssWlPRLfAbIwo', 'id': '1iCnM8foFssWlPRLfAbIwo', 'name': 'Gigi Perez', 'type': 'artist', 'uri': 'spotify:artist:1iCnM8foFssWlPRLfAbIwo'}], 'external_urls': {'spotify': 'https://open.spotify.com/album/4DWrYvfGXRE8ko5ZxlIpit'}, 'total_tracks': 1}, 'artists': [{'external_urls': {'spotify': 'https://open.spotify.com/artist/1iCnM8foFssWlPRLfAbIwo'}, 'href': 'https://api.spotify.com/v1/artists/1iCnM8foFssWlPRLfAbIwo', 'id': '1iCnM8foFssWlPRLfAbIwo', 'name': 'Gigi Perez', 'type': 'artist', 'uri': 'spotify:artist:1iCnM8foFssWlPRLfAbIwo'}], 'disc_number': 1, 'track_number': 1, 'duration_ms': 211978, 'external_ids': {'isrc': 'USHM92438095'}, 'external_urls': {'spotify': 'https://open.spotify.com/track/0UYnhUfnUj5adChuAXvLUB'}, 'href': 'https://api.spotify.com/v1/tracks/0UYnhUfnUj5adChuAXvLUB', 'id': '0UYnhUfnUj5adChuAXvLUB', 'name': 'Sailor Song', 'popularity': 90, 'uri': 'spotify:track:0UYnhUfnUj5adChuAXvLUB', 'is_local': False}, 'video_thumbnail': {'url': None}}, {'added_at': '2024-09-26T06:26:54Z', 'added_by': {'external_urls': {'spotify': 'https://open.spotify.com/user/'}, 'href': 'https://api.spotify.com/v1/users/', 'id': '', 'type': 'user', 'uri': 'spotify:user:'}, 'is_local': False, 'primary_color': None, 'track': {'preview_url': None, 'available_markets': ['AR', 'AU', 'AT', 'BE', 'BO', 'BR', 'BG', 'CA', 'CL', 'CO', 'CR', 'CY', 'CZ', 'DK', 'DO', 'DE', 'EC', 'EE', 'SV', 'FI', 'FR', 'GR', 'GT', 'HN', 'HK', 'HU', 'IS', 'IE', 'IT', 'LV', 'LT', 'LU', 'MY', 'MT', 'MX', 'NL', 'NZ', 'NI', 'NO', 'PA', 'PY', 'PE', 'PH', 'PL', 'PT', 'SG', 'SK', 'ES', 'SE', 'CH', 'TW', 'TR', 'UY', 'US', 'GB', 'AD', 'LI', 'MC', 'ID', 'JP', 'TH', 'VN', 'RO', 'IL', 'ZA', 'SA', 'AE', 'BH', 'QA', 'OM', 'KW', 'EG', 'MA', 'DZ', 'TN', 'LB', 'JO', 'PS', 'IN', 'KZ', 'MD', 'UA', 'AL', 'BA', 'HR', 'ME', 'MK', 'RS', 'SI', 'KR', 'BD', 'PK', 'LK', 'GH', 'KE', 'NG', 'TZ', 'UG', 'AG', 'AM', 'BS', 'BB', 'BZ', 'BT', 'BW', 'BF', 'CV', 'CW', 'DM', 'FJ', 'GM', 'GE', 'GD', 'GW', 'GY', 'HT', 'JM', 'KI', 'LS', 'LR', 'MW', 'MV', 'ML', 'MH', 'FM', 'NA', 'NR', 'NE', 'PW', 'PG', 'WS', 'SM', 'ST', 'SN', 'SC', 'SL', 'SB', 'KN', 'LC', 'VC', 'SR', 'TL', 'TO', 'TT', 'TV', 'VU', 'AZ', 'BN', 'BI', 'KH', 'CM', 'TD', 'KM', 'GQ', 'SZ', 'GA', 'GN', 'KG', 'LA', 'MO', 'MR', 'MN', 'NP', 'RW', 'TG', 'UZ', 'ZW', 'BJ', 'MG', 'MU', 'MZ', 'AO', 'CI', 'DJ', 'ZM', 'CD', 'CG', 'IQ', 'LY', 'TJ', 'VE', 'ET', 'XK'], 'explicit': True, 'type': 'track', 'episode': False, 'track': True, 'album': {'available_markets': ['AR', 'AU', 'AT', 'BE', 'BO', 'BR', 'BG', 'CA', 'CL', 'CO', 'CR', 'CY', 'CZ', 'DK', 'DO', 'DE', 'EC', 'EE', 'SV', 'FI', 'FR', 'GR', 'GT', 'HN', 'HK', 'HU', 'IS', 'IE', 'IT', 'LV', 'LT', 'LU', 'MY', 'MT', 'MX', 'NL', 'NZ', 'NI', 'NO', 'PA', 'PY', 'PE', 'PH', 'PL', 'PT', 'SG', 'SK', 'ES', 'SE', 'CH', 'TW', 'TR', 'UY', 'US', 'GB', 'AD', 'LI', 'MC', 'ID', 'JP', 'TH', 'VN', 'RO', 'IL', 'ZA', 'SA', 'AE', 'BH', 'QA', 'OM', 'KW', 'EG', 'MA', 'DZ', 'TN', 'LB', 'JO', 'PS', 'IN', 'KZ', 'MD', 'UA', 'AL', 'BA', 'HR', 'ME', 'MK', 'RS', 'SI', 'KR', 'BD', 'PK', 'LK', 'GH', 'KE', 'NG', 'TZ', 'UG', 'AG', 'AM', 'BS', 'BB', 'BZ', 'BT', 'BW', 'BF', 'CV', 'CW', 'DM', 'FJ', 'GM', 'GE', 'GD', 'GW', 'GY', 'HT', 'JM', 'KI', 'LS', 'LR', 'MW', 'MV', 'ML', 'MH', 'FM', 'NA', 'NR', 'NE', 'PW', 'PG', 'WS', 'SM', 'ST', 'SN', 'SC', 'SL', 'SB', 'KN', 'LC', 'VC', 'SR', 'TL', 'TO', 'TT', 'TV', 'VU', 'AZ', 'BN', 'BI', 'KH', 'CM', 'TD', 'KM', 'GQ', 'SZ', 'GA', 'GN', 'KG', 'LA', 'MO', 'MR', 'MN', 'NP', 'RW', 'TG', 'UZ', 'ZW', 'BJ', 'MG', 'MU', 'MZ', 'AO', 'CI', 'DJ', 'ZM', 'CD', 'CG', 'IQ', 'LY', 'TJ', 'VE', 'ET', 'XK'], 'type': 'album', 'album_type': 'album', 'href': 'https://api.spotify.com/v1/albums/56bdWeO40o3WfAD2Lja4dl', 'id': '56bdWeO40o3WfAD2Lja4dl', 'images': [{'height': 640, 'url': 'https://i.scdn.co/image/ab67616d0000b2736e2101520787791370f4a96b', 'width': 640}, {'height': 300, 'url': 'https://i.scdn.co/image/ab67616d00001e026e2101520787791370f4a96b', 'width': 300}, {'height': 64, 'url': 'https://i.scdn.co/image/ab67616d000048516e2101520787791370f4a96b', 'width': 64}], 'name': 'The Secret of Us', 'release_date': '2024-06-21', 'release_date_precision': 'day', 'uri': 'spotify:album:56bdWeO40o3WfAD2Lja4dl', 'artists': [{'external_urls': {'spotify': 'https://open.spotify.com/artist/4tuJ0bMpJh08umKkEXKUI5'}, 'href': 'https://api.spotify.com/v1/artists/4tuJ0bMpJh08umKkEXKUI5', 'id': '4tuJ0bMpJh08umKkEXKUI5', 'name': 'Gracie Abrams', 'type': 'artist', 'uri': 'spotify:artist:4tuJ0bMpJh08umKkEXKUI5'}], 'external_urls': {'spotify': 'https://open.spotify.com/album/56bdWeO40o3WfAD2Lja4dl'}, 'total_tracks': 13}, 'artists': [{'external_urls': {'spotify': 'https://open.spotify.com/artist/4tuJ0bMpJh08umKkEXKUI5'}, 'href': 'https://api.spotify.com/v1/artists/4tuJ0bMpJh08umKkEXKUI5', 'id': '4tuJ0bMpJh08umKkEXKUI5', 'name': 'Gracie Abrams', 'type': 'artist', 'uri': 'spotify:artist:4tuJ0bMpJh08umKkEXKUI5'}], 'disc_number': 1, 'track_number': 4, 'duration_ms': 157146, 'external_ids': {'isrc': 'USUG12401766'}, 'external_urls': {'spotify': 'https://open.spotify.com/track/51rfRCiUSvxXlCSCfIztBy'}, 'href': 'https://api.spotify.com/v1/tracks/51rfRCiUSvxXlCSCfIztBy', 'id': '51rfRCiUSvxXlCSCfIztBy', 'name': \"I Love You, I'm Sorry\", 'popularity': 90, 'uri': 'spotify:track:51rfRCiUSvxXlCSCfIztBy', 'is_local': False}, 'video_thumbnail': {'url': None}}, {'added_at': '2024-09-26T06:26:54Z', 'added_by': {'external_urls': {'spotify': 'https://open.spotify.com/user/'}, 'href': 'https://api.spotify.com/v1/users/', 'id': '', 'type': 'user', 'uri': 'spotify:user:'}, 'is_local': False, 'primary_color': None, 'track': {'preview_url': None, 'available_markets': ['AR', 'AU', 'AT', 'BE', 'BO', 'BR', 'BG', 'CA', 'CL', 'CO', 'CR', 'CY', 'CZ', 'DK', 'DO', 'DE', 'EC', 'EE', 'SV', 'FI', 'FR', 'GR', 'GT', 'HN', 'HK', 'HU', 'IS', 'IE', 'IT', 'LV', 'LT', 'LU', 'MY', 'MT', 'MX', 'NL', 'NZ', 'NI', 'NO', 'PA', 'PY', 'PE', 'PH', 'PL', 'PT', 'SG', 'SK', 'ES', 'SE', 'CH', 'TW', 'TR', 'UY', 'US', 'GB', 'AD', 'LI', 'MC', 'ID', 'JP', 'TH', 'VN', 'RO', 'IL', 'ZA', 'SA', 'AE', 'BH', 'QA', 'OM', 'KW', 'EG', 'MA', 'DZ', 'TN', 'LB', 'JO', 'PS', 'IN', 'KZ', 'MD', 'UA', 'AL', 'BA', 'HR', 'ME', 'MK', 'RS', 'SI', 'KR', 'BD', 'PK', 'LK', 'GH', 'KE', 'NG', 'TZ', 'UG', 'AG', 'AM', 'BS', 'BB', 'BZ', 'BT', 'BW', 'BF', 'CV', 'CW', 'DM', 'FJ', 'GM', 'GE', 'GD', 'GW', 'GY', 'HT', 'JM', 'KI', 'LS', 'LR', 'MW', 'MV', 'ML', 'MH', 'FM', 'NA', 'NR', 'NE', 'PW', 'PG', 'WS', 'SM', 'ST', 'SN', 'SC', 'SL', 'SB', 'KN', 'LC', 'VC', 'SR', 'TL', 'TO', 'TT', 'TV', 'VU', 'AZ', 'BN', 'BI', 'KH', 'CM', 'TD', 'KM', 'GQ', 'SZ', 'GA', 'GN', 'KG', 'LA', 'MO', 'MR', 'MN', 'NP', 'RW', 'TG', 'UZ', 'ZW', 'BJ', 'MG', 'MU', 'MZ', 'AO', 'CI', 'DJ', 'ZM', 'CD', 'CG', 'IQ', 'LY', 'TJ', 'VE', 'ET', 'XK'], 'explicit': False, 'type': 'track', 'episode': False, 'track': True, 'album': {'available_markets': ['AR', 'AU', 'AT', 'BE', 'BO', 'BR', 'BG', 'CA', 'CL', 'CO', 'CR', 'CY', 'CZ', 'DK', 'DO', 'DE', 'EC', 'EE', 'SV', 'FI', 'FR', 'GR', 'GT', 'HN', 'HK', 'HU', 'IS', 'IE', 'IT', 'LV', 'LT', 'LU', 'MY', 'MT', 'MX', 'NL', 'NZ', 'NI', 'NO', 'PA', 'PY', 'PE', 'PH', 'PL', 'PT', 'SG', 'SK', 'ES', 'SE', 'CH', 'TW', 'TR', 'UY', 'US', 'GB', 'AD', 'LI', 'MC', 'ID', 'JP', 'TH', 'VN', 'RO', 'IL', 'ZA', 'SA', 'AE', 'BH', 'QA', 'OM', 'KW', 'EG', 'MA', 'DZ', 'TN', 'LB', 'JO', 'PS', 'IN', 'KZ', 'MD', 'UA', 'AL', 'BA', 'HR', 'ME', 'MK', 'RS', 'SI', 'KR', 'BD', 'PK', 'LK', 'GH', 'KE', 'NG', 'TZ', 'UG', 'AG', 'AM', 'BS', 'BB', 'BZ', 'BT', 'BW', 'BF', 'CV', 'CW', 'DM', 'FJ', 'GM', 'GE', 'GD', 'GW', 'GY', 'HT', 'JM', 'KI', 'LS', 'LR', 'MW', 'MV', 'ML', 'MH', 'FM', 'NA', 'NR', 'NE', 'PW', 'PG', 'WS', 'SM', 'ST', 'SN', 'SC', 'SL', 'SB', 'KN', 'LC', 'VC', 'SR', 'TL', 'TO', 'TT', 'TV', 'VU', 'AZ', 'BN', 'BI', 'KH', 'CM', 'TD', 'KM', 'GQ', 'SZ', 'GA', 'GN', 'KG', 'LA', 'MO', 'MR', 'MN', 'NP', 'RW', 'TG', 'UZ', 'ZW', 'BJ', 'MG', 'MU', 'MZ', 'AO', 'CI', 'DJ', 'ZM', 'CD', 'CG', 'IQ', 'LY', 'TJ', 'VE', 'ET', 'XK'], 'type': 'album', 'album_type': 'album', 'href': 'https://api.spotify.com/v1/albums/50ZenUP4O2Q5eCy2NRNvuz', 'id': '50ZenUP4O2Q5eCy2NRNvuz', 'images': [{'height': 640, 'url': 'https://i.scdn.co/image/ab67616d0000b2736ee35072df1af802cca09918', 'width': 640}, {'height': 300, 'url': 'https://i.scdn.co/image/ab67616d00001e026ee35072df1af802cca09918', 'width': 300}, {'height': 64, 'url': 'https://i.scdn.co/image/ab67616d000048516ee35072df1af802cca09918', 'width': 64}], 'name': 'Stick Season', 'release_date': '2022-10-14', 'release_date_precision': 'day', 'uri': 'spotify:album:50ZenUP4O2Q5eCy2NRNvuz', 'artists': [{'external_urls': {'spotify': 'https://open.spotify.com/artist/2RQXRUsr4IW1f3mKyKsy4B'}, 'href': 'https://api.spotify.com/v1/artists/2RQXRUsr4IW1f3mKyKsy4B', 'id': '2RQXRUsr4IW1f3mKyKsy4B', 'name': 'Noah Kahan', 'type': 'artist', 'uri': 'spotify:artist:2RQXRUsr4IW1f3mKyKsy4B'}], 'external_urls': {'spotify': 'https://open.spotify.com/album/50ZenUP4O2Q5eCy2NRNvuz'}, 'total_tracks': 14}, 'artists': [{'external_urls': {'spotify': 'https://open.spotify.com/artist/2RQXRUsr4IW1f3mKyKsy4B'}, 'href': 'https://api.spotify.com/v1/artists/2RQXRUsr4IW1f3mKyKsy4B', 'id': '2RQXRUsr4IW1f3mKyKsy4B', 'name': 'Noah Kahan', 'type': 'artist', 'uri': 'spotify:artist:2RQXRUsr4IW1f3mKyKsy4B'}], 'disc_number': 1, 'track_number': 2, 'duration_ms': 182346, 'external_ids': {'isrc': 'USUM72212470'}, 'external_urls': {'spotify': 'https://open.spotify.com/track/0mflMxspEfB0VbI1kyLiAv'}, 'href': 'https://api.spotify.com/v1/tracks/0mflMxspEfB0VbI1kyLiAv', 'id': '0mflMxspEfB0VbI1kyLiAv', 'name': 'Stick Season', 'popularity': 89, 'uri': 'spotify:track:0mflMxspEfB0VbI1kyLiAv', 'is_local': False}, 'video_thumbnail': {'url': None}}, {'added_at': '2024-09-26T06:26:54Z', 'added_by': {'external_urls': {'spotify': 'https://open.spotify.com/user/'}, 'href': 'https://api.spotify.com/v1/users/', 'id': '', 'type': 'user', 'uri': 'spotify:user:'}, 'is_local': False, 'primary_color': None, 'track': {'preview_url': 'https://p.scdn.co/mp3-preview/e213f23e6fe5938299eebbe364d06c1682a6619f?cid=37d7662aabcc4b7b853f52b8023afab2', 'available_markets': ['AR', 'AU', 'AT', 'BO', 'BR', 'BG', 'CA', 'CL', 'CO', 'CR', 'CY', 'CZ', 'DK', 'DO', 'DE', 'EC', 'EE', 'SV', 'FI', 'FR', 'GR', 'GT', 'HN', 'HK', 'HU', 'IS', 'IE', 'IT', 'LV', 'LT', 'MY', 'MT', 'MX', 'NZ', 'NI', 'NO', 'PA', 'PY', 'PE', 'PH', 'PL', 'PT', 'SG', 'SK', 'ES', 'CH', 'TW', 'TR', 'UY', 'US', 'GB', 'AD', 'LI', 'MC', 'ID', 'JP', 'TH', 'VN', 'RO', 'IL', 'ZA', 'SA', 'AE', 'BH', 'QA', 'OM', 'KW', 'EG', 'MA', 'DZ', 'TN', 'LB', 'JO', 'PS', 'IN', 'KZ', 'MD', 'UA', 'AL', 'BA', 'HR', 'ME', 'MK', 'RS', 'SI', 'KR', 'BD', 'PK', 'LK', 'GH', 'KE', 'NG', 'TZ', 'UG', 'AG', 'AM', 'BS', 'BB', 'BZ', 'BT', 'BW', 'BF', 'CV', 'CW', 'DM', 'FJ', 'GM', 'GE', 'GD', 'GW', 'GY', 'HT', 'JM', 'KI', 'LS', 'LR', 'MW', 'MV', 'ML', 'MH', 'FM', 'NA', 'NR', 'NE', 'PW', 'PG', 'PR', 'WS', 'SM', 'ST', 'SN', 'SC', 'SL', 'SB', 'KN', 'LC', 'VC', 'SR', 'TL', 'TO', 'TT', 'TV', 'VU', 'AZ', 'BN', 'BI', 'KH', 'CM', 'TD', 'KM', 'GQ', 'SZ', 'GA', 'GN', 'KG', 'LA', 'MO', 'MR', 'MN', 'NP', 'RW', 'TG', 'UZ', 'ZW', 'BJ', 'MG', 'MU', 'MZ', 'AO', 'CI', 'DJ', 'ZM', 'CD', 'CG', 'IQ', 'LY', 'TJ', 'VE', 'ET', 'XK'], 'explicit': False, 'type': 'track', 'episode': False, 'track': True, 'album': {'available_markets': ['AR', 'AU', 'AT', 'BO', 'BR', 'BG', 'CA', 'CL', 'CO', 'CR', 'CY', 'CZ', 'DK', 'DO', 'DE', 'EC', 'EE', 'SV', 'FI', 'FR', 'GR', 'GT', 'HN', 'HK', 'HU', 'IS', 'IE', 'IT', 'LV', 'LT', 'MY', 'MT', 'MX', 'NZ', 'NI', 'NO', 'PA', 'PY', 'PE', 'PH', 'PL', 'PT', 'SG', 'SK', 'ES', 'CH', 'TW', 'TR', 'UY', 'US', 'GB', 'AD', 'LI', 'MC', 'ID', 'JP', 'TH', 'VN', 'RO', 'IL', 'ZA', 'SA', 'AE', 'BH', 'QA', 'OM', 'KW', 'EG', 'MA', 'DZ', 'TN', 'LB', 'JO', 'PS', 'IN', 'KZ', 'MD', 'UA', 'AL', 'BA', 'HR', 'ME', 'MK', 'RS', 'SI', 'KR', 'BD', 'PK', 'LK', 'GH', 'KE', 'NG', 'TZ', 'UG', 'AG', 'AM', 'BS', 'BB', 'BZ', 'BT', 'BW', 'BF', 'CV', 'CW', 'DM', 'FJ', 'GM', 'GE', 'GD', 'GW', 'GY', 'HT', 'JM', 'KI', 'LS', 'LR', 'MW', 'MV', 'ML', 'MH', 'FM', 'NA', 'NR', 'NE', 'PW', 'PG', 'PR', 'WS', 'SM', 'ST', 'SN', 'SC', 'SL', 'SB', 'KN', 'LC', 'VC', 'SR', 'TL', 'TO', 'TT', 'TV', 'VU', 'AZ', 'BN', 'BI', 'KH', 'CM', 'TD', 'KM', 'GQ', 'SZ', 'GA', 'GN', 'KG', 'LA', 'MO', 'MR', 'MN', 'NP', 'RW', 'TG', 'UZ', 'ZW', 'BJ', 'MG', 'MU', 'MZ', 'AO', 'CI', 'DJ', 'ZM', 'CD', 'CG', 'IQ', 'LY', 'TJ', 'VE', 'ET', 'XK'], 'type': 'album', 'album_type': 'single', 'href': 'https://api.spotify.com/v1/albums/29aSKB1qPEbN0Qf9OPSQpw', 'id': '29aSKB1qPEbN0Qf9OPSQpw', 'images': [{'height': 640, 'url': 'https://i.scdn.co/image/ab67616d0000b273bef221ea02a821e7feeda9cf', 'width': 640}, {'height': 300, 'url': 'https://i.scdn.co/image/ab67616d00001e02bef221ea02a821e7feeda9cf', 'width': 300}, {'height': 64, 'url': 'https://i.scdn.co/image/ab67616d00004851bef221ea02a821e7feeda9cf', 'width': 64}], 'name': 'Beautiful Things', 'release_date': '2024-01-18', 'release_date_precision': 'day', 'uri': 'spotify:album:29aSKB1qPEbN0Qf9OPSQpw', 'artists': [{'external_urls': {'spotify': 'https://open.spotify.com/artist/22wbnEMDvgVIAGdFeek6ET'}, 'href': 'https://api.spotify.com/v1/artists/22wbnEMDvgVIAGdFeek6ET', 'id': '22wbnEMDvgVIAGdFeek6ET', 'name': 'Benson Boone', 'type': 'artist', 'uri': 'spotify:artist:22wbnEMDvgVIAGdFeek6ET'}], 'external_urls': {'spotify': 'https://open.spotify.com/album/29aSKB1qPEbN0Qf9OPSQpw'}, 'total_tracks': 1}, 'artists': [{'external_urls': {'spotify': 'https://open.spotify.com/artist/22wbnEMDvgVIAGdFeek6ET'}, 'href': 'https://api.spotify.com/v1/artists/22wbnEMDvgVIAGdFeek6ET', 'id': '22wbnEMDvgVIAGdFeek6ET', 'name': 'Benson Boone', 'type': 'artist', 'uri': 'spotify:artist:22wbnEMDvgVIAGdFeek6ET'}], 'disc_number': 1, 'track_number': 1, 'duration_ms': 180304, 'external_ids': {'isrc': 'USWB12307016'}, 'external_urls': {'spotify': 'https://open.spotify.com/track/6tNQ70jh4OwmPGpYy6R2o9'}, 'href': 'https://api.spotify.com/v1/tracks/6tNQ70jh4OwmPGpYy6R2o9', 'id': '6tNQ70jh4OwmPGpYy6R2o9', 'name': 'Beautiful Things', 'popularity': 88, 'uri': 'spotify:track:6tNQ70jh4OwmPGpYy6R2o9', 'is_local': False}, 'video_thumbnail': {'url': None}}, {'added_at': '2024-09-26T06:26:54Z', 'added_by': {'external_urls': {'spotify': 'https://open.spotify.com/user/'}, 'href': 'https://api.spotify.com/v1/users/', 'id': '', 'type': 'user', 'uri': 'spotify:user:'}, 'is_local': False, 'primary_color': None, 'track': {'preview_url': 'https://p.scdn.co/mp3-preview/83919b3d62a4ae352229c0a779e8aa0c1b2f4f40?cid=37d7662aabcc4b7b853f52b8023afab2', 'available_markets': ['AR', 'AU', 'AT', 'BE', 'BO', 'BR', 'BG', 'CA', 'CL', 'CO', 'CR', 'CY', 'CZ', 'DK', 'DO', 'DE', 'EC', 'EE', 'SV', 'FI', 'FR', 'GR', 'GT', 'HN', 'HK', 'HU', 'IS', 'IE', 'IT', 'LV', 'LT', 'LU', 'MY', 'MT', 'MX', 'NL', 'NZ', 'NI', 'NO', 'PA', 'PY', 'PE', 'PH', 'PL', 'PT', 'SG', 'SK', 'ES', 'SE', 'CH', 'TW', 'TR', 'UY', 'US', 'GB', 'AD', 'LI', 'MC', 'ID', 'JP', 'TH', 'VN', 'RO', 'IL', 'ZA', 'SA', 'AE', 'BH', 'QA', 'OM', 'KW', 'EG', 'MA', 'DZ', 'TN', 'LB', 'JO', 'PS', 'IN', 'BY', 'KZ', 'MD', 'UA', 'AL', 'BA', 'HR', 'ME', 'MK', 'RS', 'SI', 'KR', 'BD', 'PK', 'LK', 'GH', 'KE', 'NG', 'TZ', 'UG', 'AG', 'AM', 'BS', 'BB', 'BZ', 'BT', 'BW', 'BF', 'CV', 'CW', 'DM', 'FJ', 'GM', 'GE', 'GD', 'GW', 'GY', 'HT', 'JM', 'KI', 'LS', 'LR', 'MW', 'MV', 'ML', 'MH', 'FM', 'NA', 'NR', 'NE', 'PW', 'PG', 'PR', 'WS', 'SM', 'ST', 'SN', 'SC', 'SL', 'SB', 'KN', 'LC', 'VC', 'SR', 'TL', 'TO', 'TT', 'TV', 'VU', 'AZ', 'BN', 'BI', 'KH', 'CM', 'TD', 'KM', 'GQ', 'SZ', 'GA', 'GN', 'KG', 'LA', 'MO', 'MR', 'MN', 'NP', 'RW', 'TG', 'UZ', 'ZW', 'BJ', 'MG', 'MU', 'MZ', 'AO', 'CI', 'DJ', 'ZM', 'CD', 'CG', 'IQ', 'LY', 'TJ', 'VE', 'ET', 'XK'], 'explicit': False, 'type': 'track', 'episode': False, 'track': True, 'album': {'available_markets': ['AR', 'AU', 'AT', 'BE', 'BO', 'BR', 'BG', 'CA', 'CL', 'CO', 'CR', 'CY', 'CZ', 'DK', 'DO', 'DE', 'EC', 'EE', 'SV', 'FI', 'FR', 'GR', 'GT', 'HN', 'HK', 'HU', 'IS', 'IE', 'IT', 'LV', 'LT', 'LU', 'MY', 'MT', 'MX', 'NL', 'NZ', 'NI', 'NO', 'PA', 'PY', 'PE', 'PH', 'PL', 'PT', 'SG', 'SK', 'ES', 'SE', 'CH', 'TW', 'TR', 'UY', 'US', 'GB', 'AD', 'LI', 'MC', 'ID', 'JP', 'TH', 'VN', 'RO', 'IL', 'ZA', 'SA', 'AE', 'BH', 'QA', 'OM', 'KW', 'EG', 'MA', 'DZ', 'TN', 'LB', 'JO', 'PS', 'IN', 'BY', 'KZ', 'MD', 'UA', 'AL', 'BA', 'HR', 'ME', 'MK', 'RS', 'SI', 'KR', 'BD', 'PK', 'LK', 'GH', 'KE', 'NG', 'TZ', 'UG', 'AG', 'AM', 'BS', 'BB', 'BZ', 'BT', 'BW', 'BF', 'CV', 'CW', 'DM', 'FJ', 'GM', 'GE', 'GD', 'GW', 'GY', 'HT', 'JM', 'KI', 'LS', 'LR', 'MW', 'MV', 'ML', 'MH', 'FM', 'NA', 'NR', 'NE', 'PW', 'PG', 'PR', 'WS', 'SM', 'ST', 'SN', 'SC', 'SL', 'SB', 'KN', 'LC', 'VC', 'SR', 'TL', 'TO', 'TT', 'TV', 'VU', 'AZ', 'BN', 'BI', 'KH', 'CM', 'TD', 'KM', 'GQ', 'SZ', 'GA', 'GN', 'KG', 'LA', 'MO', 'MR', 'MN', 'NP', 'RW', 'TG', 'UZ', 'ZW', 'BJ', 'MG', 'MU', 'MZ', 'AO', 'CI', 'DJ', 'ZM', 'CD', 'CG', 'IQ', 'LY', 'TJ', 'VE', 'ET', 'XK'], 'type': 'album', 'album_type': 'single', 'href': 'https://api.spotify.com/v1/albums/7ucm85tRsWk6EyVHaYAxe9', 'id': '7ucm85tRsWk6EyVHaYAxe9', 'images': [{'height': 640, 'url': 'https://i.scdn.co/image/ab67616d0000b2739214ff0109a0e062f8a6cf0f', 'width': 640}, {'height': 300, 'url': 'https://i.scdn.co/image/ab67616d00001e029214ff0109a0e062f8a6cf0f', 'width': 300}, {'height': 64, 'url': 'https://i.scdn.co/image/ab67616d000048519214ff0109a0e062f8a6cf0f', 'width': 64}], 'name': 'I Love You So', 'release_date': '2014-11-28', 'release_date_precision': 'day', 'uri': 'spotify:album:7ucm85tRsWk6EyVHaYAxe9', 'artists': [{'external_urls': {'spotify': 'https://open.spotify.com/artist/027TpXKGwdXP7iwbjUSpV8'}, 'href': 'https://api.spotify.com/v1/artists/027TpXKGwdXP7iwbjUSpV8', 'id': '027TpXKGwdXP7iwbjUSpV8', 'name': 'The Walters', 'type': 'artist', 'uri': 'spotify:artist:027TpXKGwdXP7iwbjUSpV8'}], 'external_urls': {'spotify': 'https://open.spotify.com/album/7ucm85tRsWk6EyVHaYAxe9'}, 'total_tracks': 1}, 'artists': [{'external_urls': {'spotify': 'https://open.spotify.com/artist/027TpXKGwdXP7iwbjUSpV8'}, 'href': 'https://api.spotify.com/v1/artists/027TpXKGwdXP7iwbjUSpV8', 'id': '027TpXKGwdXP7iwbjUSpV8', 'name': 'The Walters', 'type': 'artist', 'uri': 'spotify:artist:027TpXKGwdXP7iwbjUSpV8'}], 'disc_number': 1, 'track_number': 1, 'duration_ms': 160239, 'external_ids': {'isrc': 'TCACC1438995'}, 'external_urls': {'spotify': 'https://open.spotify.com/track/4SqWKzw0CbA05TGszDgMlc'}, 'href': 'https://api.spotify.com/v1/tracks/4SqWKzw0CbA05TGszDgMlc', 'id': '4SqWKzw0CbA05TGszDgMlc', 'name': 'I Love You So', 'popularity': 88, 'uri': 'spotify:track:4SqWKzw0CbA05TGszDgMlc', 'is_local': False}, 'video_thumbnail': {'url': None}}], 'limit': 10, 'next': 'https://api.spotify.com/v1/playlists/37i9dQZF1DWZESE3fHLhmD/tracks?offset=10&limit=10&additional_types=track', 'offset': 0, 'previous': None, 'total': 100}\n"
     ]
    }
   ],
   "source": [
    "# Exercise 2, part 2 & 3\n",
    "# choose playlist and fetch and display name, description, and total track count.\n",
    "# extract and display names of first 10 tracks in playlist\n",
    "for playlist in result['playlists']['items']:\n",
    "    if playlist['name'] == 'Herbstgefühle':\n",
    "        print(f\"{playlist['name']}, {playlist['description']}, {playlist['tracks']['total']}\")\n",
    "        id_ = playlist['id']\n",
    "    result = sp.playlist_tracks(id_, limit=10)\n",
    "        #print(result)\n",
    "        song = result['items']['track']['name']\n",
    "        "
   ]
  },
  {
   "cell_type": "code",
   "execution_count": 53,
   "id": "a717c2fd-db61-4396-9438-e2d315ad6c2b",
   "metadata": {},
   "outputs": [
    {
     "data": {
      "text/plain": [
       "{'message': 'Popular Playlists',\n",
       " 'playlists': {'href': 'https://api.spotify.com/v1/browse/featured-playlists?offset=0&limit=20',\n",
       "  'items': [{'collaborative': False,\n",
       "    'description': '50 Hits in einer Playlist! Cover: LEA',\n",
       "    'external_urls': {'spotify': 'https://open.spotify.com/playlist/37i9dQZF1DX4jP4eebSWR9'},\n",
       "    'href': 'https://api.spotify.com/v1/playlists/37i9dQZF1DX4jP4eebSWR9',\n",
       "    'id': '37i9dQZF1DX4jP4eebSWR9',\n",
       "    'images': [{'height': None,\n",
       "      'url': 'https://i.scdn.co/image/ab67706f0000000293af41a61e39c24f5d8510e0',\n",
       "      'width': None}],\n",
       "    'name': 'Hot Hits Deutschland',\n",
       "    'owner': {'display_name': 'Spotify',\n",
       "     'external_urls': {'spotify': 'https://open.spotify.com/user/spotify'},\n",
       "     'href': 'https://api.spotify.com/v1/users/spotify',\n",
       "     'id': 'spotify',\n",
       "     'type': 'user',\n",
       "     'uri': 'spotify:user:spotify'},\n",
       "    'primary_color': '#C3F0C8',\n",
       "    'public': True,\n",
       "    'snapshot_id': 'ZvOzwAAAAAAY1UwnvB6o3A4n5lJyWeqk',\n",
       "    'tracks': {'href': 'https://api.spotify.com/v1/playlists/37i9dQZF1DX4jP4eebSWR9/tracks',\n",
       "     'total': 50},\n",
       "    'type': 'playlist',\n",
       "    'uri': 'spotify:playlist:37i9dQZF1DX4jP4eebSWR9'},\n",
       "   {'collaborative': False,\n",
       "    'description': 'Die wichtigsten Deutschrap Releases der letzten Wochen - jeden Freitag aktualisiert. Cover: Ufo361, Paula Hartmann',\n",
       "    'external_urls': {'spotify': 'https://open.spotify.com/playlist/37i9dQZF1DWSTqUqJcxFk6'},\n",
       "    'href': 'https://api.spotify.com/v1/playlists/37i9dQZF1DWSTqUqJcxFk6',\n",
       "    'id': '37i9dQZF1DWSTqUqJcxFk6',\n",
       "    'images': [{'height': None,\n",
       "      'url': 'https://i.scdn.co/image/ab67706f00000002c8d3553bda7667332ba2e045',\n",
       "      'width': None}],\n",
       "    'name': 'Deutschrap Brandneu',\n",
       "    'owner': {'display_name': 'Spotify',\n",
       "     'external_urls': {'spotify': 'https://open.spotify.com/user/spotify'},\n",
       "     'href': 'https://api.spotify.com/v1/users/spotify',\n",
       "     'id': 'spotify',\n",
       "     'type': 'user',\n",
       "     'uri': 'spotify:user:spotify'},\n",
       "    'primary_color': '#ffffff',\n",
       "    'public': True,\n",
       "    'snapshot_id': 'Zu1hagAAAADt4tFrHo1OIwwVjFXSfaTv',\n",
       "    'tracks': {'href': 'https://api.spotify.com/v1/playlists/37i9dQZF1DWSTqUqJcxFk6/tracks',\n",
       "     'total': 87},\n",
       "    'type': 'playlist',\n",
       "    'uri': 'spotify:playlist:37i9dQZF1DWSTqUqJcxFk6'},\n",
       "   {'collaborative': False,\n",
       "    'description': 'Die wichtigste Hip-Hop Playlist Deutschlands. Cover: Jamule, YAKARY',\n",
       "    'external_urls': {'spotify': 'https://open.spotify.com/playlist/37i9dQZF1DX36edUJpD76c'},\n",
       "    'href': 'https://api.spotify.com/v1/playlists/37i9dQZF1DX36edUJpD76c',\n",
       "    'id': '37i9dQZF1DX36edUJpD76c',\n",
       "    'images': [{'height': None,\n",
       "      'url': 'https://i.scdn.co/image/ab67706f000000026ea18ea5d86f44ae035ce5d7',\n",
       "      'width': None}],\n",
       "    'name': 'Modus Mio',\n",
       "    'owner': {'display_name': 'Spotify',\n",
       "     'external_urls': {'spotify': 'https://open.spotify.com/user/spotify'},\n",
       "     'href': 'https://api.spotify.com/v1/users/spotify',\n",
       "     'id': 'spotify',\n",
       "     'type': 'user',\n",
       "     'uri': 'spotify:user:spotify'},\n",
       "    'primary_color': '#F59B23',\n",
       "    'public': True,\n",
       "    'snapshot_id': 'Zu1jrgAAAAD5qKxbZu4h2RKNySrTXITu',\n",
       "    'tracks': {'href': 'https://api.spotify.com/v1/playlists/37i9dQZF1DX36edUJpD76c/tracks',\n",
       "     'total': 50},\n",
       "    'type': 'playlist',\n",
       "    'uri': 'spotify:playlist:37i9dQZF1DX36edUJpD76c'},\n",
       "   {'collaborative': False,\n",
       "    'description': 'The hottest 50. Cover: Tate McRae',\n",
       "    'external_urls': {'spotify': 'https://open.spotify.com/playlist/37i9dQZF1DXcBWIGoYBM5M'},\n",
       "    'href': 'https://api.spotify.com/v1/playlists/37i9dQZF1DXcBWIGoYBM5M',\n",
       "    'id': '37i9dQZF1DXcBWIGoYBM5M',\n",
       "    'images': [{'height': None,\n",
       "      'url': 'https://i.scdn.co/image/ab67706f000000029d98b94f343cd13002dedb9b',\n",
       "      'width': None}],\n",
       "    'name': 'Today’s Top Hits',\n",
       "    'owner': {'display_name': 'Spotify',\n",
       "     'external_urls': {'spotify': 'https://open.spotify.com/user/spotify'},\n",
       "     'href': 'https://api.spotify.com/v1/users/spotify',\n",
       "     'id': 'spotify',\n",
       "     'type': 'user',\n",
       "     'uri': 'spotify:user:spotify'},\n",
       "    'primary_color': '#FFFFFF',\n",
       "    'public': True,\n",
       "    'snapshot_id': 'ZuzzQAAAAADhqQafWE+qj88gO0gfJcje',\n",
       "    'tracks': {'href': 'https://api.spotify.com/v1/playlists/37i9dQZF1DXcBWIGoYBM5M/tracks',\n",
       "     'total': 50},\n",
       "    'type': 'playlist',\n",
       "    'uri': 'spotify:playlist:37i9dQZF1DXcBWIGoYBM5M'},\n",
       "   {'collaborative': False,\n",
       "    'description': 'Endlich Zeit für Herbstspaziergänge, Gemütlichkeit & heiße Schokolade!',\n",
       "    'external_urls': {'spotify': 'https://open.spotify.com/playlist/37i9dQZF1DWZESE3fHLhmD'},\n",
       "    'href': 'https://api.spotify.com/v1/playlists/37i9dQZF1DWZESE3fHLhmD',\n",
       "    'id': '37i9dQZF1DWZESE3fHLhmD',\n",
       "    'images': [{'height': None,\n",
       "      'url': 'https://i.scdn.co/image/ab67706f00000002dcaf5689895adf0717322811',\n",
       "      'width': None}],\n",
       "    'name': 'Herbstgefühle',\n",
       "    'owner': {'display_name': 'Spotify',\n",
       "     'external_urls': {'spotify': 'https://open.spotify.com/user/spotify'},\n",
       "     'href': 'https://api.spotify.com/v1/users/spotify',\n",
       "     'id': 'spotify',\n",
       "     'type': 'user',\n",
       "     'uri': 'spotify:user:spotify'},\n",
       "    'primary_color': '#ffffff',\n",
       "    'public': True,\n",
       "    'snapshot_id': 'ZvT+rwAAAACEXcMseT8+NRwwTtZrgsEX',\n",
       "    'tracks': {'href': 'https://api.spotify.com/v1/playlists/37i9dQZF1DWZESE3fHLhmD/tracks',\n",
       "     'total': 100},\n",
       "    'type': 'playlist',\n",
       "    'uri': 'spotify:playlist:37i9dQZF1DWZESE3fHLhmD'},\n",
       "   {'collaborative': False,\n",
       "    'description': \"Jeden Freitag gibt's hier die besten Neuerscheinungen der Woche in einer Playlist. Cover: ENNIO, Nina Chuba\",\n",
       "    'external_urls': {'spotify': 'https://open.spotify.com/playlist/37i9dQZF1DWUW2bvSkjcJ6'},\n",
       "    'href': 'https://api.spotify.com/v1/playlists/37i9dQZF1DWUW2bvSkjcJ6',\n",
       "    'id': '37i9dQZF1DWUW2bvSkjcJ6',\n",
       "    'images': [{'height': None,\n",
       "      'url': 'https://i.scdn.co/image/ab67706f000000029d555f33d107619929ed210e',\n",
       "      'width': None}],\n",
       "    'name': 'New Music Friday Deutschland',\n",
       "    'owner': {'display_name': 'Spotify',\n",
       "     'external_urls': {'spotify': 'https://open.spotify.com/user/spotify'},\n",
       "     'href': 'https://api.spotify.com/v1/users/spotify',\n",
       "     'id': 'spotify',\n",
       "     'type': 'user',\n",
       "     'uri': 'spotify:user:spotify'},\n",
       "    'primary_color': '#A0C3D2',\n",
       "    'public': True,\n",
       "    'snapshot_id': 'Zu0doAAAAACQQQexgU3y+QMpsB1Wyqvo',\n",
       "    'tracks': {'href': 'https://api.spotify.com/v1/playlists/37i9dQZF1DWUW2bvSkjcJ6/tracks',\n",
       "     'total': 94},\n",
       "    'type': 'playlist',\n",
       "    'uri': 'spotify:playlist:37i9dQZF1DWUW2bvSkjcJ6'},\n",
       "   {'collaborative': False,\n",
       "    'description': \"This is Linkin Park. Tutti i brani in un'unica playlist.\",\n",
       "    'external_urls': {'spotify': 'https://open.spotify.com/playlist/37i9dQZF1DZ06evO47cwRq'},\n",
       "    'href': 'https://api.spotify.com/v1/playlists/37i9dQZF1DZ06evO47cwRq',\n",
       "    'id': '37i9dQZF1DZ06evO47cwRq',\n",
       "    'images': [{'height': None,\n",
       "      'url': 'https://thisis-images.spotifycdn.com/37i9dQZF1DZ06evO47cwRq-default.jpg',\n",
       "      'width': None}],\n",
       "    'name': 'This Is Linkin Park',\n",
       "    'owner': {'display_name': 'Spotify',\n",
       "     'external_urls': {'spotify': 'https://open.spotify.com/user/spotify'},\n",
       "     'href': 'https://api.spotify.com/v1/users/spotify',\n",
       "     'id': 'spotify',\n",
       "     'type': 'user',\n",
       "     'uri': 'spotify:user:spotify'},\n",
       "    'primary_color': None,\n",
       "    'public': True,\n",
       "    'snapshot_id': 'ZvIBAAAAAAChkPF/Fadq0V1AWH/Kshm6',\n",
       "    'tracks': {'href': 'https://api.spotify.com/v1/playlists/37i9dQZF1DZ06evO47cwRq/tracks',\n",
       "     'total': 49},\n",
       "    'type': 'playlist',\n",
       "    'uri': 'spotify:playlist:37i9dQZF1DZ06evO47cwRq'},\n",
       "   {'collaborative': False,\n",
       "    'description': 'Ein Hoch auf die 00er-Jahre!',\n",
       "    'external_urls': {'spotify': 'https://open.spotify.com/playlist/37i9dQZF1DWXeOurMWUII5'},\n",
       "    'href': 'https://api.spotify.com/v1/playlists/37i9dQZF1DWXeOurMWUII5',\n",
       "    'id': '37i9dQZF1DWXeOurMWUII5',\n",
       "    'images': [{'height': None,\n",
       "      'url': 'https://i.scdn.co/image/ab67706f00000002c88f1ddd7e8235d5773ef02a',\n",
       "      'width': None}],\n",
       "    'name': '2000er Hits',\n",
       "    'owner': {'display_name': 'Spotify',\n",
       "     'external_urls': {'spotify': 'https://open.spotify.com/user/spotify'},\n",
       "     'href': 'https://api.spotify.com/v1/users/spotify',\n",
       "     'id': 'spotify',\n",
       "     'type': 'user',\n",
       "     'uri': 'spotify:user:spotify'},\n",
       "    'primary_color': '#ffffff',\n",
       "    'public': True,\n",
       "    'snapshot_id': 'ZuFm3wAAAAA6nKQHMcN+YEochtCStdmn',\n",
       "    'tracks': {'href': 'https://api.spotify.com/v1/playlists/37i9dQZF1DWXeOurMWUII5/tracks',\n",
       "     'total': 100},\n",
       "    'type': 'playlist',\n",
       "    'uri': 'spotify:playlist:37i9dQZF1DWXeOurMWUII5'},\n",
       "   {'collaborative': False,\n",
       "    'description': 'Das Jahrzehnt der Neuen Deutschen Welle, des Synthiepop und der großen Rockhymnen.',\n",
       "    'external_urls': {'spotify': 'https://open.spotify.com/playlist/37i9dQZF1DXdCc7Q1hwtuv'},\n",
       "    'href': 'https://api.spotify.com/v1/playlists/37i9dQZF1DXdCc7Q1hwtuv',\n",
       "    'id': '37i9dQZF1DXdCc7Q1hwtuv',\n",
       "    'images': [{'height': None,\n",
       "      'url': 'https://i.scdn.co/image/ab67706f00000002bb5da0f9c61cc8597eafc3db',\n",
       "      'width': None}],\n",
       "    'name': '80er Hits',\n",
       "    'owner': {'display_name': 'Spotify',\n",
       "     'external_urls': {'spotify': 'https://open.spotify.com/user/spotify'},\n",
       "     'href': 'https://api.spotify.com/v1/users/spotify',\n",
       "     'id': 'spotify',\n",
       "     'type': 'user',\n",
       "     'uri': 'spotify:user:spotify'},\n",
       "    'primary_color': '#ffffff',\n",
       "    'public': True,\n",
       "    'snapshot_id': 'ZrHcZAAAAAD3tl6jA47kc46mDwZanhyW',\n",
       "    'tracks': {'href': 'https://api.spotify.com/v1/playlists/37i9dQZF1DXdCc7Q1hwtuv/tracks',\n",
       "     'total': 100},\n",
       "    'type': 'playlist',\n",
       "    'uri': 'spotify:playlist:37i9dQZF1DXdCc7Q1hwtuv'},\n",
       "   {'collaborative': False,\n",
       "    'description': 'Just lean back and enjoy relaxed beats.',\n",
       "    'external_urls': {'spotify': 'https://open.spotify.com/playlist/37i9dQZF1DWTvNyxOwkztu'},\n",
       "    'href': 'https://api.spotify.com/v1/playlists/37i9dQZF1DWTvNyxOwkztu',\n",
       "    'id': '37i9dQZF1DWTvNyxOwkztu',\n",
       "    'images': [{'height': None,\n",
       "      'url': 'https://i.scdn.co/image/ab67706f000000029385ce8e365c6b8ba3f70d4b',\n",
       "      'width': None}],\n",
       "    'name': 'Chillout Lounge',\n",
       "    'owner': {'display_name': 'Spotify',\n",
       "     'external_urls': {'spotify': 'https://open.spotify.com/user/spotify'},\n",
       "     'href': 'https://api.spotify.com/v1/users/spotify',\n",
       "     'id': 'spotify',\n",
       "     'type': 'user',\n",
       "     'uri': 'spotify:user:spotify'},\n",
       "    'primary_color': '#ffffff',\n",
       "    'public': True,\n",
       "    'snapshot_id': 'ZuO4wAAAAADB7WtZ4Rtp0yVpeZy39slg',\n",
       "    'tracks': {'href': 'https://api.spotify.com/v1/playlists/37i9dQZF1DWTvNyxOwkztu/tracks',\n",
       "     'total': 100},\n",
       "    'type': 'playlist',\n",
       "    'uri': 'spotify:playlist:37i9dQZF1DWTvNyxOwkztu'},\n",
       "   {'collaborative': False,\n",
       "    'description': 'the beat of your drift',\n",
       "    'external_urls': {'spotify': 'https://open.spotify.com/playlist/37i9dQZF1DWWY64wDtewQt'},\n",
       "    'href': 'https://api.spotify.com/v1/playlists/37i9dQZF1DWWY64wDtewQt',\n",
       "    'id': '37i9dQZF1DWWY64wDtewQt',\n",
       "    'images': [{'height': None,\n",
       "      'url': 'https://i.scdn.co/image/ab67706f000000027dc5028b26eb62f22d31bb1f',\n",
       "      'width': None}],\n",
       "    'name': 'phonk',\n",
       "    'owner': {'display_name': 'Spotify',\n",
       "     'external_urls': {'spotify': 'https://open.spotify.com/user/spotify'},\n",
       "     'href': 'https://api.spotify.com/v1/users/spotify',\n",
       "     'id': 'spotify',\n",
       "     'type': 'user',\n",
       "     'uri': 'spotify:user:spotify'},\n",
       "    'primary_color': '#ffffff',\n",
       "    'public': True,\n",
       "    'snapshot_id': 'Zu2O8AAAAABj9nRkASfiLYEB8aMyMY0m',\n",
       "    'tracks': {'href': 'https://api.spotify.com/v1/playlists/37i9dQZF1DWWY64wDtewQt/tracks',\n",
       "     'total': 100},\n",
       "    'type': 'playlist',\n",
       "    'uri': 'spotify:playlist:37i9dQZF1DWWY64wDtewQt'},\n",
       "   {'collaborative': False,\n",
       "    'description': 'Dip your feet in the pool and enjoy this perfect summer house mix ☀️\\u200a',\n",
       "    'external_urls': {'spotify': 'https://open.spotify.com/playlist/37i9dQZF1DX05r4Oy3Ln97'},\n",
       "    'href': 'https://api.spotify.com/v1/playlists/37i9dQZF1DX05r4Oy3Ln97',\n",
       "    'id': '37i9dQZF1DX05r4Oy3Ln97',\n",
       "    'images': [{'height': None,\n",
       "      'url': 'https://i.scdn.co/image/ab67706f000000029c3fe50a46388ca72e2691e3',\n",
       "      'width': None}],\n",
       "    'name': 'Summer House 2024',\n",
       "    'owner': {'display_name': 'Spotify',\n",
       "     'external_urls': {'spotify': 'https://open.spotify.com/user/spotify'},\n",
       "     'href': 'https://api.spotify.com/v1/users/spotify',\n",
       "     'id': 'spotify',\n",
       "     'type': 'user',\n",
       "     'uri': 'spotify:user:spotify'},\n",
       "    'primary_color': '#ffffff',\n",
       "    'public': True,\n",
       "    'snapshot_id': 'ZuzzQAAAAAA0EU7V5EW893J2Ss8qNYUc',\n",
       "    'tracks': {'href': 'https://api.spotify.com/v1/playlists/37i9dQZF1DX05r4Oy3Ln97/tracks',\n",
       "     'total': 100},\n",
       "    'type': 'playlist',\n",
       "    'uri': 'spotify:playlist:37i9dQZF1DX05r4Oy3Ln97'},\n",
       "   {'collaborative': False,\n",
       "    'description': 'Die schönsten Kinderlieder laden zum Tanzen, Tollen und Toben ein.',\n",
       "    'external_urls': {'spotify': 'https://open.spotify.com/playlist/37i9dQZF1DX12qgyzUprB6'},\n",
       "    'href': 'https://api.spotify.com/v1/playlists/37i9dQZF1DX12qgyzUprB6',\n",
       "    'id': '37i9dQZF1DX12qgyzUprB6',\n",
       "    'images': [{'height': None,\n",
       "      'url': 'https://i.scdn.co/image/ab67706f00000002ca32c058343409d547dccdba',\n",
       "      'width': None}],\n",
       "    'name': 'Spielzeit',\n",
       "    'owner': {'display_name': 'Spotify',\n",
       "     'external_urls': {'spotify': 'https://open.spotify.com/user/spotify'},\n",
       "     'href': 'https://api.spotify.com/v1/users/spotify',\n",
       "     'id': 'spotify',\n",
       "     'type': 'user',\n",
       "     'uri': 'spotify:user:spotify'},\n",
       "    'primary_color': '#ffffff',\n",
       "    'public': True,\n",
       "    'snapshot_id': 'ZsxU9QAAAADMihWyPzG3TqTyoysZ2vGW',\n",
       "    'tracks': {'href': 'https://api.spotify.com/v1/playlists/37i9dQZF1DX12qgyzUprB6/tracks',\n",
       "     'total': 60},\n",
       "    'type': 'playlist',\n",
       "    'uri': 'spotify:playlist:37i9dQZF1DX12qgyzUprB6'},\n",
       "   {'collaborative': False,\n",
       "    'description': 'The biggest Dance hits and the ones to come. Cover: BENNETT, Mentissa',\n",
       "    'external_urls': {'spotify': 'https://open.spotify.com/playlist/37i9dQZF1DX7ZUug1ANKRP'},\n",
       "    'href': 'https://api.spotify.com/v1/playlists/37i9dQZF1DX7ZUug1ANKRP',\n",
       "    'id': '37i9dQZF1DX7ZUug1ANKRP',\n",
       "    'images': [{'height': None,\n",
       "      'url': 'https://i.scdn.co/image/ab67706f0000000296257e72204576b140a6f0ce',\n",
       "      'width': None}],\n",
       "    'name': 'Main Stage',\n",
       "    'owner': {'display_name': 'Spotify',\n",
       "     'external_urls': {'spotify': 'https://open.spotify.com/user/spotify'},\n",
       "     'href': 'https://api.spotify.com/v1/users/spotify',\n",
       "     'id': 'spotify',\n",
       "     'type': 'user',\n",
       "     'uri': 'spotify:user:spotify'},\n",
       "    'primary_color': '#ffffff',\n",
       "    'public': True,\n",
       "    'snapshot_id': 'ZvQ7PAAAAAAY7vLyyXflrmiPyA841x2C',\n",
       "    'tracks': {'href': 'https://api.spotify.com/v1/playlists/37i9dQZF1DX7ZUug1ANKRP/tracks',\n",
       "     'total': 50},\n",
       "    'type': 'playlist',\n",
       "    'uri': 'spotify:playlist:37i9dQZF1DX7ZUug1ANKRP'},\n",
       "   {'collaborative': False,\n",
       "    'description': 'Schlechte Laune? Drück den Play Button!',\n",
       "    'external_urls': {'spotify': 'https://open.spotify.com/playlist/37i9dQZF1DX3Ebqev5IkYU'},\n",
       "    'href': 'https://api.spotify.com/v1/playlists/37i9dQZF1DX3Ebqev5IkYU',\n",
       "    'id': '37i9dQZF1DX3Ebqev5IkYU',\n",
       "    'images': [{'height': None,\n",
       "      'url': 'https://i.scdn.co/image/ab67706f00000002269d1e1454349a0425e16d1f',\n",
       "      'width': None}],\n",
       "    'name': 'Stimmungsmacher',\n",
       "    'owner': {'display_name': 'Spotify',\n",
       "     'external_urls': {'spotify': 'https://open.spotify.com/user/spotify'},\n",
       "     'href': 'https://api.spotify.com/v1/users/spotify',\n",
       "     'id': 'spotify',\n",
       "     'type': 'user',\n",
       "     'uri': 'spotify:user:spotify'},\n",
       "    'primary_color': '#ffffff',\n",
       "    'public': True,\n",
       "    'snapshot_id': 'ZugPHQAAAADbI5CJhPTVK6dfcTJxgKKJ',\n",
       "    'tracks': {'href': 'https://api.spotify.com/v1/playlists/37i9dQZF1DX3Ebqev5IkYU/tracks',\n",
       "     'total': 90},\n",
       "    'type': 'playlist',\n",
       "    'uri': 'spotify:playlist:37i9dQZF1DX3Ebqev5IkYU'},\n",
       "   {'collaborative': False,\n",
       "    'description': 'und macht laune',\n",
       "    'external_urls': {'spotify': 'https://open.spotify.com/playlist/37i9dQZF1DX1i11qSEWNoS'},\n",
       "    'href': 'https://api.spotify.com/v1/playlists/37i9dQZF1DX1i11qSEWNoS',\n",
       "    'id': '37i9dQZF1DX1i11qSEWNoS',\n",
       "    'images': [{'height': None,\n",
       "      'url': 'https://i.scdn.co/image/ab67706f00000002a4f3099be2bef38446043b07',\n",
       "      'width': None}],\n",
       "    'name': 'schiebt anders',\n",
       "    'owner': {'display_name': 'Spotify',\n",
       "     'external_urls': {'spotify': 'https://open.spotify.com/user/spotify'},\n",
       "     'href': 'https://api.spotify.com/v1/users/spotify',\n",
       "     'id': 'spotify',\n",
       "     'type': 'user',\n",
       "     'uri': 'spotify:user:spotify'},\n",
       "    'primary_color': '#ffffff',\n",
       "    'public': True,\n",
       "    'snapshot_id': 'ZugqhAAAAAAIybZlVFtRi8M8rk5IyOww',\n",
       "    'tracks': {'href': 'https://api.spotify.com/v1/playlists/37i9dQZF1DX1i11qSEWNoS/tracks',\n",
       "     'total': 90},\n",
       "    'type': 'playlist',\n",
       "    'uri': 'spotify:playlist:37i9dQZF1DX1i11qSEWNoS'},\n",
       "   {'collaborative': False,\n",
       "    'description': 'The summer needs dance hits 😎☀️',\n",
       "    'external_urls': {'spotify': 'https://open.spotify.com/playlist/37i9dQZF1DWZ7eJRBxKzdO'},\n",
       "    'href': 'https://api.spotify.com/v1/playlists/37i9dQZF1DWZ7eJRBxKzdO',\n",
       "    'id': '37i9dQZF1DWZ7eJRBxKzdO',\n",
       "    'images': [{'height': None,\n",
       "      'url': 'https://i.scdn.co/image/ab67706f00000002c7ea8e62ee86671eaa4c341c',\n",
       "      'width': None}],\n",
       "    'name': 'Summer Dance Hits 2024',\n",
       "    'owner': {'display_name': 'Spotify',\n",
       "     'external_urls': {'spotify': 'https://open.spotify.com/user/spotify'},\n",
       "     'href': 'https://api.spotify.com/v1/users/spotify',\n",
       "     'id': 'spotify',\n",
       "     'type': 'user',\n",
       "     'uri': 'spotify:user:spotify'},\n",
       "    'primary_color': '#ffffff',\n",
       "    'public': True,\n",
       "    'snapshot_id': 'ZuO4wAAAAADRMybDHtjNYXVUHvMfNc0b',\n",
       "    'tracks': {'href': 'https://api.spotify.com/v1/playlists/37i9dQZF1DWZ7eJRBxKzdO/tracks',\n",
       "     'total': 120},\n",
       "    'type': 'playlist',\n",
       "    'uri': 'spotify:playlist:37i9dQZF1DWZ7eJRBxKzdO'},\n",
       "   {'collaborative': False,\n",
       "    'description': 'Du kannst nicht immer 17 sein, aber diese Schlager Klassiker sind zeitlos. Cover: Helene Fischer',\n",
       "    'external_urls': {'spotify': 'https://open.spotify.com/playlist/37i9dQZF1DX6uHioFvkN7A'},\n",
       "    'href': 'https://api.spotify.com/v1/playlists/37i9dQZF1DX6uHioFvkN7A',\n",
       "    'id': '37i9dQZF1DX6uHioFvkN7A',\n",
       "    'images': [{'height': None,\n",
       "      'url': 'https://i.scdn.co/image/ab67706f00000002227ad9b0407442d583437463',\n",
       "      'width': None}],\n",
       "    'name': 'Schlager Klassiker',\n",
       "    'owner': {'display_name': 'Spotify',\n",
       "     'external_urls': {'spotify': 'https://open.spotify.com/user/spotify'},\n",
       "     'href': 'https://api.spotify.com/v1/users/spotify',\n",
       "     'id': 'spotify',\n",
       "     'type': 'user',\n",
       "     'uri': 'spotify:user:spotify'},\n",
       "    'primary_color': '#ffffff',\n",
       "    'public': True,\n",
       "    'snapshot_id': 'ZtGjIAAAAACABDQKW2+fafodlfArnQv7',\n",
       "    'tracks': {'href': 'https://api.spotify.com/v1/playlists/37i9dQZF1DX6uHioFvkN7A/tracks',\n",
       "     'total': 60},\n",
       "    'type': 'playlist',\n",
       "    'uri': 'spotify:playlist:37i9dQZF1DX6uHioFvkN7A'},\n",
       "   {'collaborative': False,\n",
       "    'description': 'Keep calm and focus with ambient and post-rock music.',\n",
       "    'external_urls': {'spotify': 'https://open.spotify.com/playlist/37i9dQZF1DWZeKCadgRdKQ'},\n",
       "    'href': 'https://api.spotify.com/v1/playlists/37i9dQZF1DWZeKCadgRdKQ',\n",
       "    'id': '37i9dQZF1DWZeKCadgRdKQ',\n",
       "    'images': [{'height': None,\n",
       "      'url': 'https://i.scdn.co/image/ab67706f000000026020f2f6476db518ef747da4',\n",
       "      'width': None}],\n",
       "    'name': 'Deep Focus',\n",
       "    'owner': {'display_name': 'Spotify',\n",
       "     'external_urls': {'spotify': 'https://open.spotify.com/user/spotify'},\n",
       "     'href': 'https://api.spotify.com/v1/users/spotify',\n",
       "     'id': 'spotify',\n",
       "     'type': 'user',\n",
       "     'uri': 'spotify:user:spotify'},\n",
       "    'primary_color': '#ffffff',\n",
       "    'public': True,\n",
       "    'snapshot_id': 'ZuqOmgAAAABj4oPfIm8TJ635GGeoRo7Y',\n",
       "    'tracks': {'href': 'https://api.spotify.com/v1/playlists/37i9dQZF1DWZeKCadgRdKQ/tracks',\n",
       "     'total': 162},\n",
       "    'type': 'playlist',\n",
       "    'uri': 'spotify:playlist:37i9dQZF1DWZeKCadgRdKQ'},\n",
       "   {'collaborative': False,\n",
       "    'description': 'The essential tracks, all in one playlist.',\n",
       "    'external_urls': {'spotify': 'https://open.spotify.com/playlist/37i9dQZF1DX5KpP2LN299J'},\n",
       "    'href': 'https://api.spotify.com/v1/playlists/37i9dQZF1DX5KpP2LN299J',\n",
       "    'id': '37i9dQZF1DX5KpP2LN299J',\n",
       "    'images': [{'height': None,\n",
       "      'url': 'https://i.scdn.co/image/ab67706f0000000252feef11af8c9d412769ec5a',\n",
       "      'width': None}],\n",
       "    'name': 'This Is Taylor Swift',\n",
       "    'owner': {'display_name': 'Spotify',\n",
       "     'external_urls': {'spotify': 'https://open.spotify.com/user/spotify'},\n",
       "     'href': 'https://api.spotify.com/v1/users/spotify',\n",
       "     'id': 'spotify',\n",
       "     'type': 'user',\n",
       "     'uri': 'spotify:user:spotify'},\n",
       "    'primary_color': '#FFFFFF',\n",
       "    'public': True,\n",
       "    'snapshot_id': 'ZqsIQAAAAADe3rfnkTpKF5/AovrNituQ',\n",
       "    'tracks': {'href': 'https://api.spotify.com/v1/playlists/37i9dQZF1DX5KpP2LN299J/tracks',\n",
       "     'total': 180},\n",
       "    'type': 'playlist',\n",
       "    'uri': 'spotify:playlist:37i9dQZF1DX5KpP2LN299J'}],\n",
       "  'limit': 20,\n",
       "  'next': 'https://api.spotify.com/v1/browse/featured-playlists?offset=20&limit=20',\n",
       "  'offset': 0,\n",
       "  'previous': None,\n",
       "  'total': 100}}"
      ]
     },
     "execution_count": 53,
     "metadata": {},
     "output_type": "execute_result"
    }
   ],
   "source": [
    "result = sp.featured_playlists()\n",
    "result"
   ]
  },
  {
   "cell_type": "code",
   "execution_count": null,
   "id": "681b5fac-66d8-4ebf-90a2-320d8fb35202",
   "metadata": {},
   "outputs": [],
   "source": [
    "# Exercise 2, part 4\n",
    "# create dict with track names as keys and artist as value"
   ]
  }
 ],
 "metadata": {
  "kernelspec": {
   "display_name": "Python 3 (ipykernel)",
   "language": "python",
   "name": "python3"
  },
  "language_info": {
   "codemirror_mode": {
    "name": "ipython",
    "version": 3
   },
   "file_extension": ".py",
   "mimetype": "text/x-python",
   "name": "python",
   "nbconvert_exporter": "python",
   "pygments_lexer": "ipython3",
   "version": "3.9.19"
  }
 },
 "nbformat": 4,
 "nbformat_minor": 5
}
